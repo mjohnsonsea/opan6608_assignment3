{
 "cells": [
  {
   "cell_type": "markdown",
   "id": "88ff20ae-30d9-415e-bb4f-dcba912247e1",
   "metadata": {},
   "source": [
    "# Assignment 3\n",
    "## Mike Johnson\n",
    "### February 10, 2025"
   ]
  },
  {
   "cell_type": "markdown",
   "id": "1965e21f-e597-43bb-b882-85eec439e495",
   "metadata": {},
   "source": [
    "****"
   ]
  },
  {
   "cell_type": "code",
   "execution_count": 1,
   "id": "b9b1530f-58bd-4b73-a10d-c86103a90dfd",
   "metadata": {},
   "outputs": [],
   "source": [
    "# Import libraries\n",
    "import pandas as pd\n",
    "import numpy as np\n",
    "import sqlite3\n",
    "import seaborn as sns\n",
    "import matplotlib.pyplot as plt"
   ]
  },
  {
   "cell_type": "code",
   "execution_count": 2,
   "id": "a6abcada-3fa6-4a87-8c9d-e4ea645dbaf8",
   "metadata": {},
   "outputs": [],
   "source": [
    "# Load sql extension\n",
    "%load_ext sql"
   ]
  },
  {
   "cell_type": "code",
   "execution_count": 3,
   "id": "ab471fa1-ccda-4422-b5b0-22110ee364cd",
   "metadata": {},
   "outputs": [
    {
     "data": {
      "text/html": [
       "<span style=\"None\">Connecting to &#x27;sqlite:///airline_industry.db&#x27;</span>"
      ],
      "text/plain": [
       "Connecting to 'sqlite:///airline_industry.db'"
      ]
     },
     "metadata": {},
     "output_type": "display_data"
    }
   ],
   "source": [
    "# Connect to airline_industry.db\n",
    "%sql sqlite:///airline_industry.db"
   ]
  },
  {
   "cell_type": "code",
   "execution_count": 4,
   "id": "3a286081-0d58-4428-b964-1b04c958a47d",
   "metadata": {},
   "outputs": [
    {
     "data": {
      "text/html": [
       "<span style=\"None\">displaylimit: Value None will be treated as 0 (no limit)</span>"
      ],
      "text/plain": [
       "displaylimit: Value None will be treated as 0 (no limit)"
      ]
     },
     "metadata": {},
     "output_type": "display_data"
    }
   ],
   "source": [
    "%config SqlMagic.displaylimit = None"
   ]
  },
  {
   "cell_type": "markdown",
   "id": "db90d74f-499a-4a1f-8397-5f959a045f54",
   "metadata": {},
   "source": [
    "****"
   ]
  },
  {
   "cell_type": "markdown",
   "id": "2b7bb2da-9658-46b8-bac0-62356d8c4300",
   "metadata": {},
   "source": [
    "#### 1. How many records are in each table in the database?"
   ]
  },
  {
   "cell_type": "code",
   "execution_count": 5,
   "id": "00afcdf6-52ad-4318-91b8-e1b55e4662a9",
   "metadata": {},
   "outputs": [
    {
     "data": {
      "text/html": [
       "<span style=\"None\">Running query in &#x27;sqlite:///airline_industry.db&#x27;</span>"
      ],
      "text/plain": [
       "Running query in 'sqlite:///airline_industry.db'"
      ]
     },
     "metadata": {},
     "output_type": "display_data"
    },
    {
     "data": {
      "text/html": [
       "<table>\n",
       "    <thead>\n",
       "        <tr>\n",
       "            <th>airlines_cnt</th>\n",
       "        </tr>\n",
       "    </thead>\n",
       "    <tbody>\n",
       "        <tr>\n",
       "            <td>16</td>\n",
       "        </tr>\n",
       "    </tbody>\n",
       "</table>"
      ],
      "text/plain": [
       "+--------------+\n",
       "| airlines_cnt |\n",
       "+--------------+\n",
       "|      16      |\n",
       "+--------------+"
      ]
     },
     "execution_count": 5,
     "metadata": {},
     "output_type": "execute_result"
    }
   ],
   "source": [
    "%%sql\n",
    "\n",
    "SELECT \n",
    "    COUNT(*) AS 'airlines_cnt'\n",
    "FROM airlines;"
   ]
  },
  {
   "cell_type": "code",
   "execution_count": 6,
   "id": "f3763722-8e61-47ae-9541-d679d61a89eb",
   "metadata": {},
   "outputs": [
    {
     "data": {
      "text/html": [
       "<span style=\"None\">Running query in &#x27;sqlite:///airline_industry.db&#x27;</span>"
      ],
      "text/plain": [
       "Running query in 'sqlite:///airline_industry.db'"
      ]
     },
     "metadata": {},
     "output_type": "display_data"
    },
    {
     "data": {
      "text/html": [
       "<table>\n",
       "    <thead>\n",
       "        <tr>\n",
       "            <th>airports_cnt</th>\n",
       "        </tr>\n",
       "    </thead>\n",
       "    <tbody>\n",
       "        <tr>\n",
       "            <td>1458</td>\n",
       "        </tr>\n",
       "    </tbody>\n",
       "</table>"
      ],
      "text/plain": [
       "+--------------+\n",
       "| airports_cnt |\n",
       "+--------------+\n",
       "|     1458     |\n",
       "+--------------+"
      ]
     },
     "execution_count": 6,
     "metadata": {},
     "output_type": "execute_result"
    }
   ],
   "source": [
    "%%sql\n",
    "\n",
    "SELECT \n",
    "    COUNT(*) AS 'airports_cnt'\n",
    "FROM airports;"
   ]
  },
  {
   "cell_type": "code",
   "execution_count": 7,
   "id": "b8d74886-7334-4632-b405-5cde2393768d",
   "metadata": {},
   "outputs": [
    {
     "data": {
      "text/html": [
       "<span style=\"None\">Running query in &#x27;sqlite:///airline_industry.db&#x27;</span>"
      ],
      "text/plain": [
       "Running query in 'sqlite:///airline_industry.db'"
      ]
     },
     "metadata": {},
     "output_type": "display_data"
    },
    {
     "data": {
      "text/html": [
       "<table>\n",
       "    <thead>\n",
       "        <tr>\n",
       "            <th>flights_cnt</th>\n",
       "        </tr>\n",
       "    </thead>\n",
       "    <tbody>\n",
       "        <tr>\n",
       "            <td>336776</td>\n",
       "        </tr>\n",
       "    </tbody>\n",
       "</table>"
      ],
      "text/plain": [
       "+-------------+\n",
       "| flights_cnt |\n",
       "+-------------+\n",
       "|    336776   |\n",
       "+-------------+"
      ]
     },
     "execution_count": 7,
     "metadata": {},
     "output_type": "execute_result"
    }
   ],
   "source": [
    "%%sql\n",
    "\n",
    "SELECT \n",
    "    COUNT(*) AS 'flights_cnt'\n",
    "FROM flights;"
   ]
  },
  {
   "cell_type": "code",
   "execution_count": 8,
   "id": "d73e1ea1-33b9-4b00-8999-01f742e71eea",
   "metadata": {},
   "outputs": [
    {
     "data": {
      "text/html": [
       "<span style=\"None\">Running query in &#x27;sqlite:///airline_industry.db&#x27;</span>"
      ],
      "text/plain": [
       "Running query in 'sqlite:///airline_industry.db'"
      ]
     },
     "metadata": {},
     "output_type": "display_data"
    },
    {
     "data": {
      "text/html": [
       "<table>\n",
       "    <thead>\n",
       "        <tr>\n",
       "            <th>planes_cnt</th>\n",
       "        </tr>\n",
       "    </thead>\n",
       "    <tbody>\n",
       "        <tr>\n",
       "            <td>3322</td>\n",
       "        </tr>\n",
       "    </tbody>\n",
       "</table>"
      ],
      "text/plain": [
       "+------------+\n",
       "| planes_cnt |\n",
       "+------------+\n",
       "|    3322    |\n",
       "+------------+"
      ]
     },
     "execution_count": 8,
     "metadata": {},
     "output_type": "execute_result"
    }
   ],
   "source": [
    "%%sql\n",
    "\n",
    "SELECT \n",
    "    COUNT(*) AS 'planes_cnt'\n",
    "FROM planes;"
   ]
  },
  {
   "cell_type": "code",
   "execution_count": 9,
   "id": "da2b289a-2c38-4c6d-8363-961f74e0e4ef",
   "metadata": {},
   "outputs": [
    {
     "data": {
      "text/html": [
       "<span style=\"None\">Running query in &#x27;sqlite:///airline_industry.db&#x27;</span>"
      ],
      "text/plain": [
       "Running query in 'sqlite:///airline_industry.db'"
      ]
     },
     "metadata": {},
     "output_type": "display_data"
    },
    {
     "data": {
      "text/html": [
       "<table>\n",
       "    <thead>\n",
       "        <tr>\n",
       "            <th>weather_cnt</th>\n",
       "        </tr>\n",
       "    </thead>\n",
       "    <tbody>\n",
       "        <tr>\n",
       "            <td>26115</td>\n",
       "        </tr>\n",
       "    </tbody>\n",
       "</table>"
      ],
      "text/plain": [
       "+-------------+\n",
       "| weather_cnt |\n",
       "+-------------+\n",
       "|    26115    |\n",
       "+-------------+"
      ]
     },
     "execution_count": 9,
     "metadata": {},
     "output_type": "execute_result"
    }
   ],
   "source": [
    "%%sql\n",
    "\n",
    "SELECT \n",
    "    COUNT(*) AS 'weather_cnt'\n",
    "FROM weather;"
   ]
  },
  {
   "cell_type": "markdown",
   "id": "15d3b4c3-50e0-4772-8455-a6cdc6a60a26",
   "metadata": {},
   "source": [
    "****"
   ]
  },
  {
   "cell_type": "markdown",
   "id": "88dc17c8-c322-4cc8-bb32-118c68b259a6",
   "metadata": {},
   "source": [
    "#### 2. Did any flights depart and arrive exactly on time?"
   ]
  },
  {
   "cell_type": "code",
   "execution_count": 10,
   "id": "b7981508-d79e-40f8-9383-bfedccc2f40b",
   "metadata": {},
   "outputs": [
    {
     "data": {
      "text/html": [
       "<span style=\"None\">Running query in &#x27;sqlite:///airline_industry.db&#x27;</span>"
      ],
      "text/plain": [
       "Running query in 'sqlite:///airline_industry.db'"
      ]
     },
     "metadata": {},
     "output_type": "display_data"
    },
    {
     "data": {
      "text/html": [
       "<table>\n",
       "    <thead>\n",
       "        <tr>\n",
       "            <th>on_time_cnt</th>\n",
       "        </tr>\n",
       "    </thead>\n",
       "    <tbody>\n",
       "        <tr>\n",
       "            <td>347</td>\n",
       "        </tr>\n",
       "    </tbody>\n",
       "</table>"
      ],
      "text/plain": [
       "+-------------+\n",
       "| on_time_cnt |\n",
       "+-------------+\n",
       "|     347     |\n",
       "+-------------+"
      ]
     },
     "execution_count": 10,
     "metadata": {},
     "output_type": "execute_result"
    }
   ],
   "source": [
    "%%sql\n",
    "\n",
    "SELECT\n",
    "    COUNT(*) AS 'on_time_cnt'\n",
    "FROM flights\n",
    "WHERE \n",
    "    dep_delay = 0\n",
    "    AND arr_delay = 0;"
   ]
  },
  {
   "cell_type": "markdown",
   "id": "e6cb7711-3c3d-4fda-b1c6-0b3081cd6809",
   "metadata": {},
   "source": [
    "Yes, 347 flights departed and arrived on time."
   ]
  },
  {
   "cell_type": "markdown",
   "id": "ca97b5ec-550f-4728-baef-2881f42ea2c0",
   "metadata": {},
   "source": [
    "****\n"
   ]
  },
  {
   "cell_type": "markdown",
   "id": "da488a67-dce8-40ab-b9ea-2370a5072b83",
   "metadata": {},
   "source": [
    "#### 3. What is the mean arrival delay among flights?"
   ]
  },
  {
   "cell_type": "code",
   "execution_count": 11,
   "id": "502a7a5e-90a9-4bc2-96ee-ba094ca631d5",
   "metadata": {},
   "outputs": [
    {
     "data": {
      "text/html": [
       "<span style=\"None\">Running query in &#x27;sqlite:///airline_industry.db&#x27;</span>"
      ],
      "text/plain": [
       "Running query in 'sqlite:///airline_industry.db'"
      ]
     },
     "metadata": {},
     "output_type": "display_data"
    },
    {
     "data": {
      "text/html": [
       "<table>\n",
       "    <thead>\n",
       "        <tr>\n",
       "            <th>mean_arr_delay</th>\n",
       "        </tr>\n",
       "    </thead>\n",
       "    <tbody>\n",
       "        <tr>\n",
       "            <td>6.702300639000404</td>\n",
       "        </tr>\n",
       "    </tbody>\n",
       "</table>"
      ],
      "text/plain": [
       "+-------------------+\n",
       "|   mean_arr_delay  |\n",
       "+-------------------+\n",
       "| 6.702300639000404 |\n",
       "+-------------------+"
      ]
     },
     "execution_count": 11,
     "metadata": {},
     "output_type": "execute_result"
    }
   ],
   "source": [
    "%%sql\n",
    "\n",
    "SELECT\n",
    "    AVG(arr_delay) AS 'mean_arr_delay'\n",
    "FROM flights;"
   ]
  },
  {
   "cell_type": "markdown",
   "id": "57084579-cf88-4735-b390-f138ef65de31",
   "metadata": {},
   "source": [
    "****"
   ]
  },
  {
   "cell_type": "markdown",
   "id": "f43f3a33-99d5-4590-8d78-eaae135503ab",
   "metadata": {},
   "source": [
    "#### 4. How many flights had above average arrival delays?"
   ]
  },
  {
   "cell_type": "code",
   "execution_count": 12,
   "id": "35e29105-21f2-4d9c-b77e-328ec2690266",
   "metadata": {},
   "outputs": [
    {
     "data": {
      "text/html": [
       "<span style=\"None\">Running query in &#x27;sqlite:///airline_industry.db&#x27;</span>"
      ],
      "text/plain": [
       "Running query in 'sqlite:///airline_industry.db'"
      ]
     },
     "metadata": {},
     "output_type": "display_data"
    },
    {
     "data": {
      "text/html": [
       "<table>\n",
       "    <thead>\n",
       "        <tr>\n",
       "            <th>above_avg_delays</th>\n",
       "        </tr>\n",
       "    </thead>\n",
       "    <tbody>\n",
       "        <tr>\n",
       "            <td>115257</td>\n",
       "        </tr>\n",
       "    </tbody>\n",
       "</table>"
      ],
      "text/plain": [
       "+------------------+\n",
       "| above_avg_delays |\n",
       "+------------------+\n",
       "|      115257      |\n",
       "+------------------+"
      ]
     },
     "execution_count": 12,
     "metadata": {},
     "output_type": "execute_result"
    }
   ],
   "source": [
    "%%sql\n",
    "\n",
    "SELECT\n",
    "    COUNT(*) AS 'above_avg_delays'\n",
    "FROM flights\n",
    "WHERE arr_delay > (SELECT AVG(arr_delay) AS 'mean_arr_delay'\n",
    "    FROM flights); "
   ]
  },
  {
   "cell_type": "markdown",
   "id": "c4d5d695-a776-425a-bef9-d16321bec005",
   "metadata": {},
   "source": [
    "****"
   ]
  },
  {
   "cell_type": "markdown",
   "id": "d69cfca6-33aa-4e88-a3f2-de159bdaca15",
   "metadata": {},
   "source": [
    "#### 5. What is the relationship between temperature and wind speed? Do changes in the mean temperature throughout the year (by month) move reflect changes in mean wind speed?"
   ]
  },
  {
   "cell_type": "code",
   "execution_count": 13,
   "id": "560ef2cd-d079-409f-aedf-ce981d5afef8",
   "metadata": {},
   "outputs": [
    {
     "data": {
      "text/html": [
       "<span style=\"None\">Running query in &#x27;sqlite:///airline_industry.db&#x27;</span>"
      ],
      "text/plain": [
       "Running query in 'sqlite:///airline_industry.db'"
      ]
     },
     "metadata": {},
     "output_type": "display_data"
    }
   ],
   "source": [
    "%%sql q5_result <<\n",
    "\n",
    "SELECT\n",
    "    month,\n",
    "    AVG(temp) AS 'mean_temp',\n",
    "    AVG(wind_speed) AS 'mean_wind_speed'\n",
    "FROM weather\n",
    "GROUP BY month\n",
    "ORDER BY month;"
   ]
  },
  {
   "cell_type": "code",
   "execution_count": 14,
   "id": "4ab98410-7130-4ff4-9a6c-e9d43a56db49",
   "metadata": {},
   "outputs": [
    {
     "data": {
      "text/html": [
       "<div>\n",
       "<style scoped>\n",
       "    .dataframe tbody tr th:only-of-type {\n",
       "        vertical-align: middle;\n",
       "    }\n",
       "\n",
       "    .dataframe tbody tr th {\n",
       "        vertical-align: top;\n",
       "    }\n",
       "\n",
       "    .dataframe thead th {\n",
       "        text-align: right;\n",
       "    }\n",
       "</style>\n",
       "<table border=\"1\" class=\"dataframe\">\n",
       "  <thead>\n",
       "    <tr style=\"text-align: right;\">\n",
       "      <th></th>\n",
       "      <th>month</th>\n",
       "      <th>mean_temp</th>\n",
       "      <th>mean_wind_speed</th>\n",
       "    </tr>\n",
       "  </thead>\n",
       "  <tbody>\n",
       "    <tr>\n",
       "      <th>0</th>\n",
       "      <td>1</td>\n",
       "      <td>35.635660</td>\n",
       "      <td>11.183658</td>\n",
       "    </tr>\n",
       "    <tr>\n",
       "      <th>1</th>\n",
       "      <td>2</td>\n",
       "      <td>34.270597</td>\n",
       "      <td>12.674038</td>\n",
       "    </tr>\n",
       "    <tr>\n",
       "      <th>2</th>\n",
       "      <td>3</td>\n",
       "      <td>39.880072</td>\n",
       "      <td>12.923151</td>\n",
       "    </tr>\n",
       "    <tr>\n",
       "      <th>3</th>\n",
       "      <td>4</td>\n",
       "      <td>51.745642</td>\n",
       "      <td>11.098444</td>\n",
       "    </tr>\n",
       "    <tr>\n",
       "      <th>4</th>\n",
       "      <td>5</td>\n",
       "      <td>61.795000</td>\n",
       "      <td>9.516621</td>\n",
       "    </tr>\n",
       "    <tr>\n",
       "      <th>5</th>\n",
       "      <td>6</td>\n",
       "      <td>72.184000</td>\n",
       "      <td>10.263253</td>\n",
       "    </tr>\n",
       "    <tr>\n",
       "      <th>6</th>\n",
       "      <td>7</td>\n",
       "      <td>80.066221</td>\n",
       "      <td>9.573477</td>\n",
       "    </tr>\n",
       "    <tr>\n",
       "      <th>7</th>\n",
       "      <td>8</td>\n",
       "      <td>74.434876</td>\n",
       "      <td>8.611904</td>\n",
       "    </tr>\n",
       "    <tr>\n",
       "      <th>8</th>\n",
       "      <td>9</td>\n",
       "      <td>67.371292</td>\n",
       "      <td>8.906685</td>\n",
       "    </tr>\n",
       "    <tr>\n",
       "      <th>9</th>\n",
       "      <td>10</td>\n",
       "      <td>60.071130</td>\n",
       "      <td>9.702033</td>\n",
       "    </tr>\n",
       "    <tr>\n",
       "      <th>10</th>\n",
       "      <td>11</td>\n",
       "      <td>44.990434</td>\n",
       "      <td>11.801811</td>\n",
       "    </tr>\n",
       "    <tr>\n",
       "      <th>11</th>\n",
       "      <td>12</td>\n",
       "      <td>38.441800</td>\n",
       "      <td>10.131051</td>\n",
       "    </tr>\n",
       "  </tbody>\n",
       "</table>\n",
       "</div>"
      ],
      "text/plain": [
       "    month  mean_temp  mean_wind_speed\n",
       "0       1  35.635660        11.183658\n",
       "1       2  34.270597        12.674038\n",
       "2       3  39.880072        12.923151\n",
       "3       4  51.745642        11.098444\n",
       "4       5  61.795000         9.516621\n",
       "5       6  72.184000        10.263253\n",
       "6       7  80.066221         9.573477\n",
       "7       8  74.434876         8.611904\n",
       "8       9  67.371292         8.906685\n",
       "9      10  60.071130         9.702033\n",
       "10     11  44.990434        11.801811\n",
       "11     12  38.441800        10.131051"
      ]
     },
     "execution_count": 14,
     "metadata": {},
     "output_type": "execute_result"
    }
   ],
   "source": [
    "# Load results into a dataframe.\n",
    "q5_df = q5_result.DataFrame()\n",
    "q5_df"
   ]
  },
  {
   "cell_type": "code",
   "execution_count": 15,
   "id": "8d6c2977-6367-4367-99e1-64a159f061e4",
   "metadata": {},
   "outputs": [
    {
     "data": {
      "image/png": "[encoded data removed]",
      "text/plain": [
       "<Figure size 640x480 with 1 Axes>"
      ]
     },
     "metadata": {},
     "output_type": "display_data"
    }
   ],
   "source": [
    "# Visualize results\n",
    "sns.regplot(data = q5_df,\n",
    "            x = 'mean_temp',\n",
    "            y = 'mean_wind_speed',\n",
    "            color = 'red')\n",
    "\n",
    "# Viz labels\n",
    "plt.title('Avg Temp vs Avg Wind Speed')\n",
    "plt.xlabel('Avg Temp')\n",
    "plt.ylabel('Avg Wind Speed')\n",
    "\n",
    "plt.show()          "
   ]
  },
  {
   "cell_type": "markdown",
   "id": "57ae7273-199c-479b-b7e5-09f8e82ad971",
   "metadata": {},
   "source": [
    "Yes, as average temperature increases, average windspeed decreases."
   ]
  },
  {
   "cell_type": "markdown",
   "id": "8734ed9f-0259-4edf-bcb1-7182bed30f94",
   "metadata": {},
   "source": [
    "****"
   ]
  },
  {
   "cell_type": "markdown",
   "id": "f0ca6259-037d-461e-ac4d-d8558f0bec8e",
   "metadata": {},
   "source": [
    "#### 6. Print the first 5 rows of flights and airlines. Does the flights table contain the full name of the airline? If so, print them. If not, write a query to return the first 10 records in the flights data with the following columns: the origin, destination, carrier, flight number, and full name of the airline for each flight in a single table."
   ]
  },
  {
   "cell_type": "code",
   "execution_count": 16,
   "id": "07d8eae5-cfe4-474d-bdb0-c4bb6bca2a43",
   "metadata": {},
   "outputs": [
    {
     "data": {
      "text/html": [
       "<span style=\"None\">Running query in &#x27;sqlite:///airline_industry.db&#x27;</span>"
      ],
      "text/plain": [
       "Running query in 'sqlite:///airline_industry.db'"
      ]
     },
     "metadata": {},
     "output_type": "display_data"
    },
    {
     "data": {
      "text/html": [
       "<table>\n",
       "    <thead>\n",
       "        <tr>\n",
       "            <th>field1</th>\n",
       "            <th>year</th>\n",
       "            <th>month</th>\n",
       "            <th>day</th>\n",
       "            <th>dep_time</th>\n",
       "            <th>sched_dep_time</th>\n",
       "            <th>dep_delay</th>\n",
       "            <th>arr_time</th>\n",
       "            <th>sched_arr_time</th>\n",
       "            <th>arr_delay</th>\n",
       "            <th>carrier</th>\n",
       "            <th>flight</th>\n",
       "            <th>tailnum</th>\n",
       "            <th>origin</th>\n",
       "            <th>dest</th>\n",
       "            <th>air_time</th>\n",
       "            <th>distance</th>\n",
       "            <th>hour</th>\n",
       "            <th>minute</th>\n",
       "            <th>time_hour</th>\n",
       "        </tr>\n",
       "    </thead>\n",
       "    <tbody>\n",
       "        <tr>\n",
       "            <td>1</td>\n",
       "            <td>2013</td>\n",
       "            <td>1</td>\n",
       "            <td>1</td>\n",
       "            <td>517</td>\n",
       "            <td>515</td>\n",
       "            <td>2</td>\n",
       "            <td>830</td>\n",
       "            <td>819</td>\n",
       "            <td>11</td>\n",
       "            <td>UA</td>\n",
       "            <td>1545</td>\n",
       "            <td>N14228</td>\n",
       "            <td>EWR</td>\n",
       "            <td>IAH</td>\n",
       "            <td>227</td>\n",
       "            <td>1400</td>\n",
       "            <td>5</td>\n",
       "            <td>15</td>\n",
       "            <td>2013-01-01 05:00:00</td>\n",
       "        </tr>\n",
       "        <tr>\n",
       "            <td>2</td>\n",
       "            <td>2013</td>\n",
       "            <td>1</td>\n",
       "            <td>1</td>\n",
       "            <td>533</td>\n",
       "            <td>529</td>\n",
       "            <td>4</td>\n",
       "            <td>850</td>\n",
       "            <td>830</td>\n",
       "            <td>20</td>\n",
       "            <td>UA</td>\n",
       "            <td>1714</td>\n",
       "            <td>N24211</td>\n",
       "            <td>LGA</td>\n",
       "            <td>IAH</td>\n",
       "            <td>227</td>\n",
       "            <td>1416</td>\n",
       "            <td>5</td>\n",
       "            <td>29</td>\n",
       "            <td>2013-01-01 05:00:00</td>\n",
       "        </tr>\n",
       "        <tr>\n",
       "            <td>3</td>\n",
       "            <td>2013</td>\n",
       "            <td>1</td>\n",
       "            <td>1</td>\n",
       "            <td>542</td>\n",
       "            <td>540</td>\n",
       "            <td>2</td>\n",
       "            <td>923</td>\n",
       "            <td>850</td>\n",
       "            <td>33</td>\n",
       "            <td>AA</td>\n",
       "            <td>1141</td>\n",
       "            <td>N619AA</td>\n",
       "            <td>JFK</td>\n",
       "            <td>MIA</td>\n",
       "            <td>160</td>\n",
       "            <td>1089</td>\n",
       "            <td>5</td>\n",
       "            <td>40</td>\n",
       "            <td>2013-01-01 05:00:00</td>\n",
       "        </tr>\n",
       "        <tr>\n",
       "            <td>4</td>\n",
       "            <td>2013</td>\n",
       "            <td>1</td>\n",
       "            <td>1</td>\n",
       "            <td>544</td>\n",
       "            <td>545</td>\n",
       "            <td>-1</td>\n",
       "            <td>1004</td>\n",
       "            <td>1022</td>\n",
       "            <td>-18</td>\n",
       "            <td>B6</td>\n",
       "            <td>725</td>\n",
       "            <td>N804JB</td>\n",
       "            <td>JFK</td>\n",
       "            <td>BQN</td>\n",
       "            <td>183</td>\n",
       "            <td>1576</td>\n",
       "            <td>5</td>\n",
       "            <td>45</td>\n",
       "            <td>2013-01-01 05:00:00</td>\n",
       "        </tr>\n",
       "        <tr>\n",
       "            <td>5</td>\n",
       "            <td>2013</td>\n",
       "            <td>1</td>\n",
       "            <td>1</td>\n",
       "            <td>554</td>\n",
       "            <td>600</td>\n",
       "            <td>-6</td>\n",
       "            <td>812</td>\n",
       "            <td>837</td>\n",
       "            <td>-25</td>\n",
       "            <td>DL</td>\n",
       "            <td>461</td>\n",
       "            <td>N668DN</td>\n",
       "            <td>LGA</td>\n",
       "            <td>ATL</td>\n",
       "            <td>116</td>\n",
       "            <td>762</td>\n",
       "            <td>6</td>\n",
       "            <td>0</td>\n",
       "            <td>2013-01-01 06:00:00</td>\n",
       "        </tr>\n",
       "    </tbody>\n",
       "</table>"
      ],
      "text/plain": [
       "+--------+------+-------+-----+----------+----------------+-----------+----------+----------------+-----------+---------+--------+---------+--------+------+----------+----------+------+--------+---------------------+\n",
       "| field1 | year | month | day | dep_time | sched_dep_time | dep_delay | arr_time | sched_arr_time | arr_delay | carrier | flight | tailnum | origin | dest | air_time | distance | hour | minute |      time_hour      |\n",
       "+--------+------+-------+-----+----------+----------------+-----------+----------+----------------+-----------+---------+--------+---------+--------+------+----------+----------+------+--------+---------------------+\n",
       "|   1    | 2013 |   1   |  1  |   517    |      515       |     2     |   830    |      819       |     11    |    UA   |  1545  |  N14228 |  EWR   | IAH  |   227    |   1400   |  5   |   15   | 2013-01-01 05:00:00 |\n",
       "|   2    | 2013 |   1   |  1  |   533    |      529       |     4     |   850    |      830       |     20    |    UA   |  1714  |  N24211 |  LGA   | IAH  |   227    |   1416   |  5   |   29   | 2013-01-01 05:00:00 |\n",
       "|   3    | 2013 |   1   |  1  |   542    |      540       |     2     |   923    |      850       |     33    |    AA   |  1141  |  N619AA |  JFK   | MIA  |   160    |   1089   |  5   |   40   | 2013-01-01 05:00:00 |\n",
       "|   4    | 2013 |   1   |  1  |   544    |      545       |     -1    |   1004   |      1022      |    -18    |    B6   |  725   |  N804JB |  JFK   | BQN  |   183    |   1576   |  5   |   45   | 2013-01-01 05:00:00 |\n",
       "|   5    | 2013 |   1   |  1  |   554    |      600       |     -6    |   812    |      837       |    -25    |    DL   |  461   |  N668DN |  LGA   | ATL  |   116    |   762    |  6   |   0    | 2013-01-01 06:00:00 |\n",
       "+--------+------+-------+-----+----------+----------------+-----------+----------+----------------+-----------+---------+--------+---------+--------+------+----------+----------+------+--------+---------------------+"
      ]
     },
     "execution_count": 16,
     "metadata": {},
     "output_type": "execute_result"
    }
   ],
   "source": [
    "%%sql\n",
    "\n",
    "SELECT *\n",
    "FROM flights\n",
    "LIMIT 5;"
   ]
  },
  {
   "cell_type": "code",
   "execution_count": 17,
   "id": "fa229dee-c639-433a-b645-7d1b54dc2f93",
   "metadata": {},
   "outputs": [
    {
     "data": {
      "text/html": [
       "<span style=\"None\">Running query in &#x27;sqlite:///airline_industry.db&#x27;</span>"
      ],
      "text/plain": [
       "Running query in 'sqlite:///airline_industry.db'"
      ]
     },
     "metadata": {},
     "output_type": "display_data"
    },
    {
     "data": {
      "text/html": [
       "<table>\n",
       "    <thead>\n",
       "        <tr>\n",
       "            <th>field1</th>\n",
       "            <th>carrier</th>\n",
       "            <th>name</th>\n",
       "        </tr>\n",
       "    </thead>\n",
       "    <tbody>\n",
       "        <tr>\n",
       "            <td>1</td>\n",
       "            <td>9E</td>\n",
       "            <td>Endeavor Air Inc.</td>\n",
       "        </tr>\n",
       "        <tr>\n",
       "            <td>2</td>\n",
       "            <td>AA</td>\n",
       "            <td>American Airlines Inc.</td>\n",
       "        </tr>\n",
       "        <tr>\n",
       "            <td>3</td>\n",
       "            <td>AS</td>\n",
       "            <td>Alaska Airlines Inc.</td>\n",
       "        </tr>\n",
       "        <tr>\n",
       "            <td>4</td>\n",
       "            <td>B6</td>\n",
       "            <td>JetBlue Airways</td>\n",
       "        </tr>\n",
       "        <tr>\n",
       "            <td>5</td>\n",
       "            <td>DL</td>\n",
       "            <td>Delta Air Lines Inc.</td>\n",
       "        </tr>\n",
       "    </tbody>\n",
       "</table>"
      ],
      "text/plain": [
       "+--------+---------+------------------------+\n",
       "| field1 | carrier |          name          |\n",
       "+--------+---------+------------------------+\n",
       "|   1    |    9E   |   Endeavor Air Inc.    |\n",
       "|   2    |    AA   | American Airlines Inc. |\n",
       "|   3    |    AS   |  Alaska Airlines Inc.  |\n",
       "|   4    |    B6   |    JetBlue Airways     |\n",
       "|   5    |    DL   |  Delta Air Lines Inc.  |\n",
       "+--------+---------+------------------------+"
      ]
     },
     "execution_count": 17,
     "metadata": {},
     "output_type": "execute_result"
    }
   ],
   "source": [
    "%%sql\n",
    "\n",
    "SELECT *\n",
    "FROM airlines\n",
    "LIMIT 5;"
   ]
  },
  {
   "cell_type": "code",
   "execution_count": 18,
   "id": "78dea9c6-049e-4767-bd8c-71ece1d89400",
   "metadata": {},
   "outputs": [
    {
     "data": {
      "text/html": [
       "<span style=\"None\">Running query in &#x27;sqlite:///airline_industry.db&#x27;</span>"
      ],
      "text/plain": [
       "Running query in 'sqlite:///airline_industry.db'"
      ]
     },
     "metadata": {},
     "output_type": "display_data"
    },
    {
     "data": {
      "text/html": [
       "<table>\n",
       "    <thead>\n",
       "        <tr>\n",
       "            <th>origin</th>\n",
       "            <th>destination</th>\n",
       "            <th>carrier</th>\n",
       "            <th>flight</th>\n",
       "            <th>name</th>\n",
       "        </tr>\n",
       "    </thead>\n",
       "    <tbody>\n",
       "        <tr>\n",
       "            <td>EWR</td>\n",
       "            <td>IAH</td>\n",
       "            <td>UA</td>\n",
       "            <td>1545</td>\n",
       "            <td>United Air Lines Inc.</td>\n",
       "        </tr>\n",
       "        <tr>\n",
       "            <td>LGA</td>\n",
       "            <td>IAH</td>\n",
       "            <td>UA</td>\n",
       "            <td>1714</td>\n",
       "            <td>United Air Lines Inc.</td>\n",
       "        </tr>\n",
       "        <tr>\n",
       "            <td>JFK</td>\n",
       "            <td>MIA</td>\n",
       "            <td>AA</td>\n",
       "            <td>1141</td>\n",
       "            <td>American Airlines Inc.</td>\n",
       "        </tr>\n",
       "        <tr>\n",
       "            <td>JFK</td>\n",
       "            <td>BQN</td>\n",
       "            <td>B6</td>\n",
       "            <td>725</td>\n",
       "            <td>JetBlue Airways</td>\n",
       "        </tr>\n",
       "        <tr>\n",
       "            <td>LGA</td>\n",
       "            <td>ATL</td>\n",
       "            <td>DL</td>\n",
       "            <td>461</td>\n",
       "            <td>Delta Air Lines Inc.</td>\n",
       "        </tr>\n",
       "        <tr>\n",
       "            <td>EWR</td>\n",
       "            <td>ORD</td>\n",
       "            <td>UA</td>\n",
       "            <td>1696</td>\n",
       "            <td>United Air Lines Inc.</td>\n",
       "        </tr>\n",
       "        <tr>\n",
       "            <td>EWR</td>\n",
       "            <td>FLL</td>\n",
       "            <td>B6</td>\n",
       "            <td>507</td>\n",
       "            <td>JetBlue Airways</td>\n",
       "        </tr>\n",
       "        <tr>\n",
       "            <td>LGA</td>\n",
       "            <td>IAD</td>\n",
       "            <td>EV</td>\n",
       "            <td>5708</td>\n",
       "            <td>ExpressJet Airlines Inc.</td>\n",
       "        </tr>\n",
       "        <tr>\n",
       "            <td>JFK</td>\n",
       "            <td>MCO</td>\n",
       "            <td>B6</td>\n",
       "            <td>79</td>\n",
       "            <td>JetBlue Airways</td>\n",
       "        </tr>\n",
       "        <tr>\n",
       "            <td>LGA</td>\n",
       "            <td>ORD</td>\n",
       "            <td>AA</td>\n",
       "            <td>301</td>\n",
       "            <td>American Airlines Inc.</td>\n",
       "        </tr>\n",
       "    </tbody>\n",
       "</table>"
      ],
      "text/plain": [
       "+--------+-------------+---------+--------+--------------------------+\n",
       "| origin | destination | carrier | flight |           name           |\n",
       "+--------+-------------+---------+--------+--------------------------+\n",
       "|  EWR   |     IAH     |    UA   |  1545  |  United Air Lines Inc.   |\n",
       "|  LGA   |     IAH     |    UA   |  1714  |  United Air Lines Inc.   |\n",
       "|  JFK   |     MIA     |    AA   |  1141  |  American Airlines Inc.  |\n",
       "|  JFK   |     BQN     |    B6   |  725   |     JetBlue Airways      |\n",
       "|  LGA   |     ATL     |    DL   |  461   |   Delta Air Lines Inc.   |\n",
       "|  EWR   |     ORD     |    UA   |  1696  |  United Air Lines Inc.   |\n",
       "|  EWR   |     FLL     |    B6   |  507   |     JetBlue Airways      |\n",
       "|  LGA   |     IAD     |    EV   |  5708  | ExpressJet Airlines Inc. |\n",
       "|  JFK   |     MCO     |    B6   |   79   |     JetBlue Airways      |\n",
       "|  LGA   |     ORD     |    AA   |  301   |  American Airlines Inc.  |\n",
       "+--------+-------------+---------+--------+--------------------------+"
      ]
     },
     "execution_count": 18,
     "metadata": {},
     "output_type": "execute_result"
    }
   ],
   "source": [
    "%%sql\n",
    "\n",
    "SELECT\n",
    "    f.origin,\n",
    "    f.dest as 'destination',\n",
    "    f.carrier,\n",
    "    f.flight,\n",
    "    a.name\n",
    "FROM flights as f\n",
    "LEFT JOIN airlines as a\n",
    "ON f.carrier = a.carrier\n",
    "LIMIT 10;\n"
   ]
  },
  {
   "cell_type": "markdown",
   "id": "d4b7e366-a2d4-477e-9f3c-d17df5341499",
   "metadata": {},
   "source": [
    "****"
   ]
  },
  {
   "cell_type": "markdown",
   "id": "88922de9-b9c9-4dc6-93c3-5f92a8a39b3d",
   "metadata": {},
   "source": [
    "#### 7. Your supervisor is interested in the airlines that offer the most flights in peak periods. Write a query that returns the number of flights each airline operates in December. The results should be a single table that contains five columns: carrier, month, name, and num_flights. The results should be limited to 10 and shown in descending order by number of flights."
   ]
  },
  {
   "cell_type": "code",
   "execution_count": 19,
   "id": "1463f90d-58ed-41d5-9cf4-ca380468c890",
   "metadata": {},
   "outputs": [
    {
     "data": {
      "text/html": [
       "<span style=\"None\">Running query in &#x27;sqlite:///airline_industry.db&#x27;</span>"
      ],
      "text/plain": [
       "Running query in 'sqlite:///airline_industry.db'"
      ]
     },
     "metadata": {},
     "output_type": "display_data"
    },
    {
     "data": {
      "text/html": [
       "<table>\n",
       "    <thead>\n",
       "        <tr>\n",
       "            <th>carrier</th>\n",
       "            <th>month</th>\n",
       "            <th>name</th>\n",
       "            <th>num_flights</th>\n",
       "        </tr>\n",
       "    </thead>\n",
       "    <tbody>\n",
       "        <tr>\n",
       "            <td>UA</td>\n",
       "            <td>12</td>\n",
       "            <td>United Air Lines Inc.</td>\n",
       "            <td>4931</td>\n",
       "        </tr>\n",
       "        <tr>\n",
       "            <td>B6</td>\n",
       "            <td>12</td>\n",
       "            <td>JetBlue Airways</td>\n",
       "            <td>4741</td>\n",
       "        </tr>\n",
       "        <tr>\n",
       "            <td>EV</td>\n",
       "            <td>12</td>\n",
       "            <td>ExpressJet Airlines Inc.</td>\n",
       "            <td>4307</td>\n",
       "        </tr>\n",
       "        <tr>\n",
       "            <td>DL</td>\n",
       "            <td>12</td>\n",
       "            <td>Delta Air Lines Inc.</td>\n",
       "            <td>4093</td>\n",
       "        </tr>\n",
       "        <tr>\n",
       "            <td>AA</td>\n",
       "            <td>12</td>\n",
       "            <td>American Airlines Inc.</td>\n",
       "            <td>2705</td>\n",
       "        </tr>\n",
       "        <tr>\n",
       "            <td>MQ</td>\n",
       "            <td>12</td>\n",
       "            <td>Envoy Air</td>\n",
       "            <td>2139</td>\n",
       "        </tr>\n",
       "        <tr>\n",
       "            <td>9E</td>\n",
       "            <td>12</td>\n",
       "            <td>Endeavor Air Inc.</td>\n",
       "            <td>1633</td>\n",
       "        </tr>\n",
       "        <tr>\n",
       "            <td>US</td>\n",
       "            <td>12</td>\n",
       "            <td>US Airways Inc.</td>\n",
       "            <td>1605</td>\n",
       "        </tr>\n",
       "        <tr>\n",
       "            <td>WN</td>\n",
       "            <td>12</td>\n",
       "            <td>Southwest Airlines Co.</td>\n",
       "            <td>1099</td>\n",
       "        </tr>\n",
       "        <tr>\n",
       "            <td>VX</td>\n",
       "            <td>12</td>\n",
       "            <td>Virgin America</td>\n",
       "            <td>476</td>\n",
       "        </tr>\n",
       "    </tbody>\n",
       "</table>"
      ],
      "text/plain": [
       "+---------+-------+--------------------------+-------------+\n",
       "| carrier | month |           name           | num_flights |\n",
       "+---------+-------+--------------------------+-------------+\n",
       "|    UA   |   12  |  United Air Lines Inc.   |     4931    |\n",
       "|    B6   |   12  |     JetBlue Airways      |     4741    |\n",
       "|    EV   |   12  | ExpressJet Airlines Inc. |     4307    |\n",
       "|    DL   |   12  |   Delta Air Lines Inc.   |     4093    |\n",
       "|    AA   |   12  |  American Airlines Inc.  |     2705    |\n",
       "|    MQ   |   12  |        Envoy Air         |     2139    |\n",
       "|    9E   |   12  |    Endeavor Air Inc.     |     1633    |\n",
       "|    US   |   12  |     US Airways Inc.      |     1605    |\n",
       "|    WN   |   12  |  Southwest Airlines Co.  |     1099    |\n",
       "|    VX   |   12  |      Virgin America      |     476     |\n",
       "+---------+-------+--------------------------+-------------+"
      ]
     },
     "execution_count": 19,
     "metadata": {},
     "output_type": "execute_result"
    }
   ],
   "source": [
    "%%sql\n",
    "\n",
    "SELECT\n",
    "    f.carrier,\n",
    "    f.month,\n",
    "    a.name,\n",
    "    COUNT(*) AS num_flights\n",
    "FROM flights as f\n",
    "LEFT JOIN airlines as a\n",
    "ON f.carrier = a.carrier\n",
    "WHERE month = 12\n",
    "GROUP BY \n",
    "    f.carrier,\n",
    "    a.name\n",
    "ORDER BY num_flights DESC\n",
    "LIMIT 10;"
   ]
  },
  {
   "cell_type": "markdown",
   "id": "d9f8717d-01a4-4700-8dc8-39b2aea086a0",
   "metadata": {},
   "source": [
    "****"
   ]
  },
  {
   "cell_type": "markdown",
   "id": "8335e8c9-bd55-4015-9f5b-da472b05b0b4",
   "metadata": {},
   "source": [
    "#### 8. Use pandas to connect to the database. Define a function that takes one argument--month_num--called num_flights_fun that uses pandas' `.read_sql_query()` and runs a query that returns the number of flights each airline operates in whatever month is specified in the function call. The result should be returned as a pandas dataframe that contains five columns: carrier, month, name, and num_flights."
   ]
  },
  {
   "cell_type": "code",
   "execution_count": 20,
   "id": "bc111db7-c3e1-4ded-a065-d989dd9797c9",
   "metadata": {},
   "outputs": [],
   "source": [
    "# Define function that takes the month_num and returns the number of flights each airline operates in that month.\n",
    "def num_flights_fun(month_num):\n",
    "    # Connection to database\n",
    "    conn = sqlite3.connect('airline_industry.db')\n",
    "\n",
    "    # SQL query to get the number of flights each airline operates in the specified month\n",
    "    query = f\"\"\"\n",
    "    SELECT\n",
    "        f.carrier,\n",
    "        f.month,\n",
    "        a.name,\n",
    "        COUNT(*) AS num_flights\n",
    "    FROM flights as f\n",
    "    LEFT JOIN airlines as a\n",
    "    ON f.carrier = a.carrier\n",
    "    WHERE f.month = '{month_num}'\n",
    "    GROUP BY \n",
    "        f.carrier, \n",
    "        f.month,\n",
    "        a.name\n",
    "    ORDER BY num_flights DESC;\n",
    "    \"\"\"\n",
    "\n",
    "    # Store the result in a dataframe\n",
    "    result_df = pd.read_sql_query(query, conn)\n",
    "\n",
    "    # Close db connection\n",
    "    conn.close()\n",
    "\n",
    "    # Return the dataframe\n",
    "    return result_df"
   ]
  },
  {
   "cell_type": "markdown",
   "id": "2ee36c90-9ca9-435b-925f-e2d3733c5135",
   "metadata": {},
   "source": [
    "****"
   ]
  },
  {
   "cell_type": "markdown",
   "id": "56c0457e-bec0-4ed2-8d0d-c5f24b7fc864",
   "metadata": {},
   "source": [
    "#### 9. Test your function to ensure it works. Create a new dataframe called sept that contains the results with only records from September and a dataframe called jan that contains the results with only records from January. The only change you should make to get the results is adjusting the value of the input parameter you are passing in the function call in num_flights_fun. Print out the last five rows of sept and jan."
   ]
  },
  {
   "cell_type": "code",
   "execution_count": 21,
   "id": "c810292a-b06e-412f-a89e-1d18abea9098",
   "metadata": {},
   "outputs": [
    {
     "data": {
      "text/html": [
       "<div>\n",
       "<style scoped>\n",
       "    .dataframe tbody tr th:only-of-type {\n",
       "        vertical-align: middle;\n",
       "    }\n",
       "\n",
       "    .dataframe tbody tr th {\n",
       "        vertical-align: top;\n",
       "    }\n",
       "\n",
       "    .dataframe thead th {\n",
       "        text-align: right;\n",
       "    }\n",
       "</style>\n",
       "<table border=\"1\" class=\"dataframe\">\n",
       "  <thead>\n",
       "    <tr style=\"text-align: right;\">\n",
       "      <th></th>\n",
       "      <th>carrier</th>\n",
       "      <th>month</th>\n",
       "      <th>name</th>\n",
       "      <th>num_flights</th>\n",
       "    </tr>\n",
       "  </thead>\n",
       "  <tbody>\n",
       "    <tr>\n",
       "      <th>11</th>\n",
       "      <td>AS</td>\n",
       "      <td>9</td>\n",
       "      <td>Alaska Airlines Inc.</td>\n",
       "      <td>60</td>\n",
       "    </tr>\n",
       "    <tr>\n",
       "      <th>12</th>\n",
       "      <td>F9</td>\n",
       "      <td>9</td>\n",
       "      <td>Frontier Airlines Inc.</td>\n",
       "      <td>58</td>\n",
       "    </tr>\n",
       "    <tr>\n",
       "      <th>13</th>\n",
       "      <td>YV</td>\n",
       "      <td>9</td>\n",
       "      <td>Mesa Airlines Inc.</td>\n",
       "      <td>42</td>\n",
       "    </tr>\n",
       "    <tr>\n",
       "      <th>14</th>\n",
       "      <td>HA</td>\n",
       "      <td>9</td>\n",
       "      <td>Hawaiian Airlines Inc.</td>\n",
       "      <td>25</td>\n",
       "    </tr>\n",
       "    <tr>\n",
       "      <th>15</th>\n",
       "      <td>OO</td>\n",
       "      <td>9</td>\n",
       "      <td>SkyWest Airlines Inc.</td>\n",
       "      <td>20</td>\n",
       "    </tr>\n",
       "  </tbody>\n",
       "</table>\n",
       "</div>"
      ],
      "text/plain": [
       "   carrier  month                    name  num_flights\n",
       "11      AS      9    Alaska Airlines Inc.           60\n",
       "12      F9      9  Frontier Airlines Inc.           58\n",
       "13      YV      9      Mesa Airlines Inc.           42\n",
       "14      HA      9  Hawaiian Airlines Inc.           25\n",
       "15      OO      9   SkyWest Airlines Inc.           20"
      ]
     },
     "execution_count": 21,
     "metadata": {},
     "output_type": "execute_result"
    }
   ],
   "source": [
    "# Verify that function works using September\n",
    "sept = num_flights_fun(9)\n",
    "\n",
    "# Show last five rows\n",
    "sept.tail(5)"
   ]
  },
  {
   "cell_type": "code",
   "execution_count": 22,
   "id": "75244ca6-5180-4dbf-a070-6979faa2be6b",
   "metadata": {},
   "outputs": [
    {
     "data": {
      "text/html": [
       "<div>\n",
       "<style scoped>\n",
       "    .dataframe tbody tr th:only-of-type {\n",
       "        vertical-align: middle;\n",
       "    }\n",
       "\n",
       "    .dataframe tbody tr th {\n",
       "        vertical-align: top;\n",
       "    }\n",
       "\n",
       "    .dataframe thead th {\n",
       "        text-align: right;\n",
       "    }\n",
       "</style>\n",
       "<table border=\"1\" class=\"dataframe\">\n",
       "  <thead>\n",
       "    <tr style=\"text-align: right;\">\n",
       "      <th></th>\n",
       "      <th>carrier</th>\n",
       "      <th>month</th>\n",
       "      <th>name</th>\n",
       "      <th>num_flights</th>\n",
       "    </tr>\n",
       "  </thead>\n",
       "  <tbody>\n",
       "    <tr>\n",
       "      <th>11</th>\n",
       "      <td>AS</td>\n",
       "      <td>1</td>\n",
       "      <td>Alaska Airlines Inc.</td>\n",
       "      <td>62</td>\n",
       "    </tr>\n",
       "    <tr>\n",
       "      <th>12</th>\n",
       "      <td>F9</td>\n",
       "      <td>1</td>\n",
       "      <td>Frontier Airlines Inc.</td>\n",
       "      <td>59</td>\n",
       "    </tr>\n",
       "    <tr>\n",
       "      <th>13</th>\n",
       "      <td>YV</td>\n",
       "      <td>1</td>\n",
       "      <td>Mesa Airlines Inc.</td>\n",
       "      <td>46</td>\n",
       "    </tr>\n",
       "    <tr>\n",
       "      <th>14</th>\n",
       "      <td>HA</td>\n",
       "      <td>1</td>\n",
       "      <td>Hawaiian Airlines Inc.</td>\n",
       "      <td>31</td>\n",
       "    </tr>\n",
       "    <tr>\n",
       "      <th>15</th>\n",
       "      <td>OO</td>\n",
       "      <td>1</td>\n",
       "      <td>SkyWest Airlines Inc.</td>\n",
       "      <td>1</td>\n",
       "    </tr>\n",
       "  </tbody>\n",
       "</table>\n",
       "</div>"
      ],
      "text/plain": [
       "   carrier  month                    name  num_flights\n",
       "11      AS      1    Alaska Airlines Inc.           62\n",
       "12      F9      1  Frontier Airlines Inc.           59\n",
       "13      YV      1      Mesa Airlines Inc.           46\n",
       "14      HA      1  Hawaiian Airlines Inc.           31\n",
       "15      OO      1   SkyWest Airlines Inc.            1"
      ]
     },
     "execution_count": 22,
     "metadata": {},
     "output_type": "execute_result"
    }
   ],
   "source": [
    "# Verify that  function works using January\n",
    "jan = num_flights_fun(1)\n",
    "\n",
    "# Show last five rows\n",
    "jan.tail(5)"
   ]
  },
  {
   "cell_type": "markdown",
   "id": "6e8dc690-db09-47b6-815d-16f5368afb15",
   "metadata": {},
   "source": [
    "****"
   ]
  },
  {
   "cell_type": "markdown",
   "id": "9baf2ef1-74c7-4802-8f01-e4549b0ceb5d",
   "metadata": {},
   "source": [
    "#### 10. Using sept and jan, print the top five airlines with the greatest number of flights in September and in January, in descending order. Are the top five airlines the same in September and January? If so, what are the airlines? If not, which airlines differ from September to January?"
   ]
  },
  {
   "cell_type": "code",
   "execution_count": 23,
   "id": "84e94863-91e1-4943-b952-91e85792a365",
   "metadata": {},
   "outputs": [
    {
     "data": {
      "text/html": [
       "<div>\n",
       "<style scoped>\n",
       "    .dataframe tbody tr th:only-of-type {\n",
       "        vertical-align: middle;\n",
       "    }\n",
       "\n",
       "    .dataframe tbody tr th {\n",
       "        vertical-align: top;\n",
       "    }\n",
       "\n",
       "    .dataframe thead th {\n",
       "        text-align: right;\n",
       "    }\n",
       "</style>\n",
       "<table border=\"1\" class=\"dataframe\">\n",
       "  <thead>\n",
       "    <tr style=\"text-align: right;\">\n",
       "      <th></th>\n",
       "      <th>carrier</th>\n",
       "      <th>month</th>\n",
       "      <th>name</th>\n",
       "      <th>num_flights</th>\n",
       "    </tr>\n",
       "  </thead>\n",
       "  <tbody>\n",
       "    <tr>\n",
       "      <th>0</th>\n",
       "      <td>EV</td>\n",
       "      <td>9</td>\n",
       "      <td>ExpressJet Airlines Inc.</td>\n",
       "      <td>4725</td>\n",
       "    </tr>\n",
       "    <tr>\n",
       "      <th>1</th>\n",
       "      <td>UA</td>\n",
       "      <td>9</td>\n",
       "      <td>United Air Lines Inc.</td>\n",
       "      <td>4694</td>\n",
       "    </tr>\n",
       "    <tr>\n",
       "      <th>2</th>\n",
       "      <td>B6</td>\n",
       "      <td>9</td>\n",
       "      <td>JetBlue Airways</td>\n",
       "      <td>4291</td>\n",
       "    </tr>\n",
       "    <tr>\n",
       "      <th>3</th>\n",
       "      <td>DL</td>\n",
       "      <td>9</td>\n",
       "      <td>Delta Air Lines Inc.</td>\n",
       "      <td>3883</td>\n",
       "    </tr>\n",
       "    <tr>\n",
       "      <th>4</th>\n",
       "      <td>AA</td>\n",
       "      <td>9</td>\n",
       "      <td>American Airlines Inc.</td>\n",
       "      <td>2614</td>\n",
       "    </tr>\n",
       "  </tbody>\n",
       "</table>\n",
       "</div>"
      ],
      "text/plain": [
       "  carrier  month                      name  num_flights\n",
       "0      EV      9  ExpressJet Airlines Inc.         4725\n",
       "1      UA      9     United Air Lines Inc.         4694\n",
       "2      B6      9           JetBlue Airways         4291\n",
       "3      DL      9      Delta Air Lines Inc.         3883\n",
       "4      AA      9    American Airlines Inc.         2614"
      ]
     },
     "execution_count": 23,
     "metadata": {},
     "output_type": "execute_result"
    }
   ],
   "source": [
    "# Show top 5 in September\n",
    "sept.head(5)"
   ]
  },
  {
   "cell_type": "code",
   "execution_count": 24,
   "id": "b015edd5-d838-4b47-903a-e400610c9a14",
   "metadata": {},
   "outputs": [
    {
     "data": {
      "text/html": [
       "<div>\n",
       "<style scoped>\n",
       "    .dataframe tbody tr th:only-of-type {\n",
       "        vertical-align: middle;\n",
       "    }\n",
       "\n",
       "    .dataframe tbody tr th {\n",
       "        vertical-align: top;\n",
       "    }\n",
       "\n",
       "    .dataframe thead th {\n",
       "        text-align: right;\n",
       "    }\n",
       "</style>\n",
       "<table border=\"1\" class=\"dataframe\">\n",
       "  <thead>\n",
       "    <tr style=\"text-align: right;\">\n",
       "      <th></th>\n",
       "      <th>carrier</th>\n",
       "      <th>month</th>\n",
       "      <th>name</th>\n",
       "      <th>num_flights</th>\n",
       "    </tr>\n",
       "  </thead>\n",
       "  <tbody>\n",
       "    <tr>\n",
       "      <th>0</th>\n",
       "      <td>UA</td>\n",
       "      <td>1</td>\n",
       "      <td>United Air Lines Inc.</td>\n",
       "      <td>4637</td>\n",
       "    </tr>\n",
       "    <tr>\n",
       "      <th>1</th>\n",
       "      <td>B6</td>\n",
       "      <td>1</td>\n",
       "      <td>JetBlue Airways</td>\n",
       "      <td>4427</td>\n",
       "    </tr>\n",
       "    <tr>\n",
       "      <th>2</th>\n",
       "      <td>EV</td>\n",
       "      <td>1</td>\n",
       "      <td>ExpressJet Airlines Inc.</td>\n",
       "      <td>4171</td>\n",
       "    </tr>\n",
       "    <tr>\n",
       "      <th>3</th>\n",
       "      <td>DL</td>\n",
       "      <td>1</td>\n",
       "      <td>Delta Air Lines Inc.</td>\n",
       "      <td>3690</td>\n",
       "    </tr>\n",
       "    <tr>\n",
       "      <th>4</th>\n",
       "      <td>AA</td>\n",
       "      <td>1</td>\n",
       "      <td>American Airlines Inc.</td>\n",
       "      <td>2794</td>\n",
       "    </tr>\n",
       "  </tbody>\n",
       "</table>\n",
       "</div>"
      ],
      "text/plain": [
       "  carrier  month                      name  num_flights\n",
       "0      UA      1     United Air Lines Inc.         4637\n",
       "1      B6      1           JetBlue Airways         4427\n",
       "2      EV      1  ExpressJet Airlines Inc.         4171\n",
       "3      DL      1      Delta Air Lines Inc.         3690\n",
       "4      AA      1    American Airlines Inc.         2794"
      ]
     },
     "execution_count": 24,
     "metadata": {},
     "output_type": "execute_result"
    }
   ],
   "source": [
    "# Show top 5 in January\n",
    "jan.head(5)"
   ]
  },
  {
   "cell_type": "markdown",
   "id": "5ec13293-7475-454d-9da8-45b4a052cec9",
   "metadata": {},
   "source": [
    "The top 5 airlines in September and January are the same. Both include ExpressJet Airlines Inc., United Air Lines Inc., JetBlue Airways, Delta Air Lines Inc., American Airlines Inc.."
   ]
  },
  {
   "cell_type": "markdown",
   "id": "42855dff-fc12-42c9-8249-6d402ae207e7",
   "metadata": {},
   "source": [
    "****"
   ]
  },
  {
   "cell_type": "markdown",
   "id": "f3270ff9-7df2-4dcc-a018-8c6abeb94e4c",
   "metadata": {},
   "source": [
    "#### 11. Create a new function using pandas called num_flights_fun_all that runs the same query as above but returns the records for all months. The function should not take any arguments."
   ]
  },
  {
   "cell_type": "code",
   "execution_count": 25,
   "id": "e458d8e9-3f9a-410c-8e24-da3654f9e12f",
   "metadata": {},
   "outputs": [],
   "source": [
    "# Define function that returns the records for all months\n",
    "def num_flights_fun_all():\n",
    "    # Connection to database\n",
    "    conn = sqlite3.connect('airline_industry.db')\n",
    "\n",
    "    # SQL query to get the number of flights each airline operates\n",
    "    query = f\"\"\"\n",
    "    SELECT\n",
    "        f.carrier,\n",
    "        f.month,\n",
    "        a.name,\n",
    "        COUNT(*) AS num_flights\n",
    "    FROM flights as f\n",
    "    LEFT JOIN airlines as a\n",
    "    ON f.carrier = a.carrier\n",
    "    GROUP BY \n",
    "        f.carrier, \n",
    "        f.month,\n",
    "        a.name\n",
    "    ORDER BY num_flights DESC;\n",
    "    \"\"\"\n",
    "\n",
    "    # Store the result in a dataframe\n",
    "    result_df = pd.read_sql_query(query, conn)\n",
    "\n",
    "    # Close db connection\n",
    "    conn.close()\n",
    "\n",
    "    # Return the dataframe\n",
    "    return result_df"
   ]
  },
  {
   "cell_type": "markdown",
   "id": "7dadfcf5-b4d8-4e12-8026-2bc344201e77",
   "metadata": {},
   "source": [
    "****"
   ]
  },
  {
   "cell_type": "markdown",
   "id": "a096b1aa-656f-43c8-b052-80345f5a6741",
   "metadata": {},
   "source": [
    "#### 12. Use num_flights_fun_all to create a dataframe called months_df. The dataframe should have carrier, month, name, and num_flights columns and contain the number of flights that each airline made in each month. Show the first 15 lines of the dataframe to ensure the results are correct."
   ]
  },
  {
   "cell_type": "code",
   "execution_count": 26,
   "id": "aa5363e3-bf75-4f59-835f-157def8ddc5d",
   "metadata": {},
   "outputs": [
    {
     "data": {
      "text/html": [
       "<div>\n",
       "<style scoped>\n",
       "    .dataframe tbody tr th:only-of-type {\n",
       "        vertical-align: middle;\n",
       "    }\n",
       "\n",
       "    .dataframe tbody tr th {\n",
       "        vertical-align: top;\n",
       "    }\n",
       "\n",
       "    .dataframe thead th {\n",
       "        text-align: right;\n",
       "    }\n",
       "</style>\n",
       "<table border=\"1\" class=\"dataframe\">\n",
       "  <thead>\n",
       "    <tr style=\"text-align: right;\">\n",
       "      <th></th>\n",
       "      <th>carrier</th>\n",
       "      <th>month</th>\n",
       "      <th>name</th>\n",
       "      <th>num_flights</th>\n",
       "    </tr>\n",
       "  </thead>\n",
       "  <tbody>\n",
       "    <tr>\n",
       "      <th>0</th>\n",
       "      <td>UA</td>\n",
       "      <td>8</td>\n",
       "      <td>United Air Lines Inc.</td>\n",
       "      <td>5124</td>\n",
       "    </tr>\n",
       "    <tr>\n",
       "      <th>1</th>\n",
       "      <td>UA</td>\n",
       "      <td>7</td>\n",
       "      <td>United Air Lines Inc.</td>\n",
       "      <td>5066</td>\n",
       "    </tr>\n",
       "    <tr>\n",
       "      <th>2</th>\n",
       "      <td>UA</td>\n",
       "      <td>10</td>\n",
       "      <td>United Air Lines Inc.</td>\n",
       "      <td>5060</td>\n",
       "    </tr>\n",
       "    <tr>\n",
       "      <th>3</th>\n",
       "      <td>UA</td>\n",
       "      <td>4</td>\n",
       "      <td>United Air Lines Inc.</td>\n",
       "      <td>5047</td>\n",
       "    </tr>\n",
       "    <tr>\n",
       "      <th>4</th>\n",
       "      <td>B6</td>\n",
       "      <td>7</td>\n",
       "      <td>JetBlue Airways</td>\n",
       "      <td>4984</td>\n",
       "    </tr>\n",
       "    <tr>\n",
       "      <th>5</th>\n",
       "      <td>UA</td>\n",
       "      <td>6</td>\n",
       "      <td>United Air Lines Inc.</td>\n",
       "      <td>4975</td>\n",
       "    </tr>\n",
       "    <tr>\n",
       "      <th>6</th>\n",
       "      <td>UA</td>\n",
       "      <td>3</td>\n",
       "      <td>United Air Lines Inc.</td>\n",
       "      <td>4971</td>\n",
       "    </tr>\n",
       "    <tr>\n",
       "      <th>7</th>\n",
       "      <td>UA</td>\n",
       "      <td>5</td>\n",
       "      <td>United Air Lines Inc.</td>\n",
       "      <td>4960</td>\n",
       "    </tr>\n",
       "    <tr>\n",
       "      <th>8</th>\n",
       "      <td>B6</td>\n",
       "      <td>8</td>\n",
       "      <td>JetBlue Airways</td>\n",
       "      <td>4952</td>\n",
       "    </tr>\n",
       "    <tr>\n",
       "      <th>9</th>\n",
       "      <td>UA</td>\n",
       "      <td>12</td>\n",
       "      <td>United Air Lines Inc.</td>\n",
       "      <td>4931</td>\n",
       "    </tr>\n",
       "    <tr>\n",
       "      <th>10</th>\n",
       "      <td>EV</td>\n",
       "      <td>10</td>\n",
       "      <td>ExpressJet Airlines Inc.</td>\n",
       "      <td>4908</td>\n",
       "    </tr>\n",
       "    <tr>\n",
       "      <th>11</th>\n",
       "      <td>UA</td>\n",
       "      <td>11</td>\n",
       "      <td>United Air Lines Inc.</td>\n",
       "      <td>4854</td>\n",
       "    </tr>\n",
       "    <tr>\n",
       "      <th>12</th>\n",
       "      <td>EV</td>\n",
       "      <td>5</td>\n",
       "      <td>ExpressJet Airlines Inc.</td>\n",
       "      <td>4817</td>\n",
       "    </tr>\n",
       "    <tr>\n",
       "      <th>13</th>\n",
       "      <td>B6</td>\n",
       "      <td>3</td>\n",
       "      <td>JetBlue Airways</td>\n",
       "      <td>4772</td>\n",
       "    </tr>\n",
       "    <tr>\n",
       "      <th>14</th>\n",
       "      <td>B6</td>\n",
       "      <td>12</td>\n",
       "      <td>JetBlue Airways</td>\n",
       "      <td>4741</td>\n",
       "    </tr>\n",
       "  </tbody>\n",
       "</table>\n",
       "</div>"
      ],
      "text/plain": [
       "   carrier  month                      name  num_flights\n",
       "0       UA      8     United Air Lines Inc.         5124\n",
       "1       UA      7     United Air Lines Inc.         5066\n",
       "2       UA     10     United Air Lines Inc.         5060\n",
       "3       UA      4     United Air Lines Inc.         5047\n",
       "4       B6      7           JetBlue Airways         4984\n",
       "5       UA      6     United Air Lines Inc.         4975\n",
       "6       UA      3     United Air Lines Inc.         4971\n",
       "7       UA      5     United Air Lines Inc.         4960\n",
       "8       B6      8           JetBlue Airways         4952\n",
       "9       UA     12     United Air Lines Inc.         4931\n",
       "10      EV     10  ExpressJet Airlines Inc.         4908\n",
       "11      UA     11     United Air Lines Inc.         4854\n",
       "12      EV      5  ExpressJet Airlines Inc.         4817\n",
       "13      B6      3           JetBlue Airways         4772\n",
       "14      B6     12           JetBlue Airways         4741"
      ]
     },
     "execution_count": 26,
     "metadata": {},
     "output_type": "execute_result"
    }
   ],
   "source": [
    "# Run num_lights_fun_all() and save to months_df\n",
    "months_df = num_flights_fun_all()\n",
    "\n",
    "# Show the first 15 lines of dataframe to confirm function worked.\n",
    "months_df.head(15)"
   ]
  },
  {
   "cell_type": "markdown",
   "id": "fa3d1f09-3094-433b-abb2-fdceb6a4c111",
   "metadata": {},
   "source": [
    "****"
   ]
  },
  {
   "cell_type": "markdown",
   "id": "9b29bc21-ea67-40be-892c-6682b182914f",
   "metadata": {},
   "source": [
    "#### 13. Use months_df to plot the number of flights each airline made for each month using altair, plotly, or seaborn."
   ]
  },
  {
   "cell_type": "code",
   "execution_count": 27,
   "id": "a14e35ed-0741-4126-b737-46a5534d5d31",
   "metadata": {},
   "outputs": [
    {
     "data": {
      "image/png": "[encoded data removed]",
      "text/plain": [
       "<Figure size 640x480 with 1 Axes>"
      ]
     },
     "metadata": {},
     "output_type": "display_data"
    }
   ],
   "source": [
    "# Create viz\n",
    "sns.lineplot(data = months_df,\n",
    "             x = 'month',\n",
    "             y = 'num_flights',\n",
    "             hue = 'name')\n",
    "\n",
    "# Viz labels\n",
    "plt.title('Number of flights each month by airline')\n",
    "plt.xlabel('Month')\n",
    "plt.ylabel('Number of Flights')\n",
    "plt.legend(title = 'Airline', bbox_to_anchor=(1.05, 1), loc = 'upper left')\n",
    "\n",
    "plt.show()"
   ]
  },
  {
   "cell_type": "markdown",
   "id": "e4a5e9c1-d69f-4328-8831-767750dd6823",
   "metadata": {},
   "source": [
    "****"
   ]
  },
  {
   "cell_type": "markdown",
   "id": "f7f238cd-53d0-4cdb-a77a-7eed22c1dc97",
   "metadata": {},
   "source": [
    "#### 14. Write a query that returns the each airlines' mean arrival delay across all of its flights. The result should have two columns: mean_delay and the full name of the airline. Which airline has the highest average delay?"
   ]
  },
  {
   "cell_type": "code",
   "execution_count": 28,
   "id": "3363011b-7fbb-4619-9440-82d0cf1e91cd",
   "metadata": {},
   "outputs": [
    {
     "data": {
      "text/html": [
       "<span style=\"None\">Running query in &#x27;sqlite:///airline_industry.db&#x27;</span>"
      ],
      "text/plain": [
       "Running query in 'sqlite:///airline_industry.db'"
      ]
     },
     "metadata": {},
     "output_type": "display_data"
    },
    {
     "data": {
      "text/html": [
       "<table>\n",
       "    <thead>\n",
       "        <tr>\n",
       "            <th>mean_delay</th>\n",
       "            <th>name</th>\n",
       "        </tr>\n",
       "    </thead>\n",
       "    <tbody>\n",
       "        <tr>\n",
       "            <td>21.792700729927006</td>\n",
       "            <td>Frontier Airlines Inc.</td>\n",
       "        </tr>\n",
       "    </tbody>\n",
       "</table>"
      ],
      "text/plain": [
       "+--------------------+------------------------+\n",
       "|     mean_delay     |          name          |\n",
       "+--------------------+------------------------+\n",
       "| 21.792700729927006 | Frontier Airlines Inc. |\n",
       "+--------------------+------------------------+"
      ]
     },
     "execution_count": 28,
     "metadata": {},
     "output_type": "execute_result"
    }
   ],
   "source": [
    "%%sql\n",
    "\n",
    "SELECT \n",
    "    avg(f.arr_delay) AS mean_delay,\n",
    "    a.name\n",
    "FROM flights AS f\n",
    "LEFT JOIN airlines AS a\n",
    "ON f.carrier = a.carrier\n",
    "GROUP BY a.name\n",
    "ORDER BY mean_delay DESC\n",
    "LIMIT 1;"
   ]
  },
  {
   "cell_type": "markdown",
   "id": "68d93a72-41ca-4196-a9d2-877d76498789",
   "metadata": {},
   "source": [
    "****"
   ]
  },
  {
   "cell_type": "markdown",
   "id": "1e6dd771-0e3c-43c2-9162-0a4fe1b0c9ca",
   "metadata": {},
   "source": [
    "#### 15. Use pandas to query the data and return a dataframe to plot the data. Use either altair, seaborn, or plotly and plot the mean delay for each airline in a bar plot. The plot should have the airline name on the y and mean delay on the x and be ordered by mean delay. The bars should be colored by whether the airlines' flights arrive, on average, early or late. Which airline, on average, has the earliest arrivals?"
   ]
  },
  {
   "cell_type": "code",
   "execution_count": 29,
   "id": "95978017-09d2-4917-a082-a1344d8cefd9",
   "metadata": {},
   "outputs": [],
   "source": [
    "# Connection to database\n",
    "conn = sqlite3.connect('airline_industry.db')\n",
    "\n",
    "    # SQL query to get the number of flights each airline operates\n",
    "query = f\"\"\"\n",
    "        SELECT \n",
    "            avg(f.arr_delay) AS mean_delay,\n",
    "            a.name\n",
    "        FROM flights AS f\n",
    "        LEFT JOIN airlines AS a\n",
    "        ON f.carrier = a.carrier\n",
    "        GROUP BY a.name\n",
    "        ORDER BY mean_delay;\n",
    "        \"\"\"\n",
    "\n",
    "q15_df = pd.read_sql_query(query, conn)\n",
    "\n",
    "# Close db connection\n",
    "conn.close()\n",
    "\n",
    "# Add conditional column to indicate wheter flights arrive early or late on average.\n",
    "q15_df['status'] = np.where(q15_df['mean_delay'] < 0, 'early', 'late')"
   ]
  },
  {
   "cell_type": "code",
   "execution_count": 30,
   "id": "2f60d52c-86f5-4ed9-b8c8-4ed4f4ba7cee",
   "metadata": {},
   "outputs": [
    {
     "data": {
      "image/png": "[encoded data removed]",
      "text/plain": [
       "<Figure size 640x480 with 1 Axes>"
      ]
     },
     "metadata": {},
     "output_type": "display_data"
    }
   ],
   "source": [
    "# Create viz\n",
    "sns.barplot(data = q15_df,\n",
    "            x = 'mean_delay',\n",
    "            y = 'name',\n",
    "            hue = 'status',\n",
    "            palette={'early':'green', 'late':'red'})\n",
    "\n",
    "# Viz labels\n",
    "plt.title('Mean Arrival Delay by Airline')\n",
    "plt.xlabel('Mean Delay')\n",
    "plt.ylabel('Airline')\n",
    "plt.axvline(0, color = 'gray')\n",
    "plt.legend(title = 'Arrival Status')\n",
    "\n",
    "plt.show()"
   ]
  },
  {
   "cell_type": "code",
   "execution_count": 31,
   "id": "d924ee64-0e69-47ce-a910-c8b2478f0995",
   "metadata": {},
   "outputs": [
    {
     "data": {
      "text/html": [
       "<div>\n",
       "<style scoped>\n",
       "    .dataframe tbody tr th:only-of-type {\n",
       "        vertical-align: middle;\n",
       "    }\n",
       "\n",
       "    .dataframe tbody tr th {\n",
       "        vertical-align: top;\n",
       "    }\n",
       "\n",
       "    .dataframe thead th {\n",
       "        text-align: right;\n",
       "    }\n",
       "</style>\n",
       "<table border=\"1\" class=\"dataframe\">\n",
       "  <thead>\n",
       "    <tr style=\"text-align: right;\">\n",
       "      <th></th>\n",
       "      <th>mean_delay</th>\n",
       "      <th>name</th>\n",
       "      <th>status</th>\n",
       "    </tr>\n",
       "  </thead>\n",
       "  <tbody>\n",
       "    <tr>\n",
       "      <th>0</th>\n",
       "      <td>-9.861345</td>\n",
       "      <td>Alaska Airlines Inc.</td>\n",
       "      <td>early</td>\n",
       "    </tr>\n",
       "  </tbody>\n",
       "</table>\n",
       "</div>"
      ],
      "text/plain": [
       "   mean_delay                  name status\n",
       "0   -9.861345  Alaska Airlines Inc.  early"
      ]
     },
     "execution_count": 31,
     "metadata": {},
     "output_type": "execute_result"
    }
   ],
   "source": [
    "# Airline with the earliest arrivals on average.\n",
    "q15_df.head(1)"
   ]
  },
  {
   "cell_type": "markdown",
   "id": "0d45510e-75d3-4c9b-8e5d-133e97998cef",
   "metadata": {},
   "source": [
    "****"
   ]
  }
 ],
 "metadata": {
  "kernelspec": {
   "display_name": "Python 3 (ipykernel)",
   "language": "python",
   "name": "python3"
  },
  "language_info": {
   "codemirror_mode": {
    "name": "ipython",
    "version": 3
   },
   "file_extension": ".py",
   "mimetype": "text/x-python",
   "name": "python",
   "nbconvert_exporter": "python",
   "pygments_lexer": "ipython3",
   "version": "3.12.7"
  }
 },
 "nbformat": 4,
 "nbformat_minor": 5
}
