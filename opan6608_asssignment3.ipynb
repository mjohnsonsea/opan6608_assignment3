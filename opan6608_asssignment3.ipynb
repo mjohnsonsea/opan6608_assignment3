{
 "cells": [
  {
   "cell_type": "markdown",
   "id": "0a9fdc45-60a5-4f15-aa52-8503de6bc197",
   "metadata": {},
   "source": [
    "# Assignment 3\n",
    "## Mike Johnson\n",
    "### February 10, 2025"
   ]
  },
  {
   "cell_type": "markdown",
   "id": "6b35c6db-9670-4603-b248-1fa4265e9452",
   "metadata": {},
   "source": [
    "****"
   ]
  },
  {
   "cell_type": "code",
   "execution_count": 1,
   "id": "0069069f-de59-43e4-b7bf-6993983ca2f7",
   "metadata": {},
   "outputs": [],
   "source": [
    "# Import libraries\n",
    "import pandas as pd\n",
    "import sqlite3\n",
    "from plotnine import *"
   ]
  },
  {
   "cell_type": "code",
   "execution_count": 2,
   "id": "a6abcada-3fa6-4a87-8c9d-e4ea645dbaf8",
   "metadata": {},
   "outputs": [],
   "source": [
    "# Load sql extension\n",
    "%load_ext sql"
   ]
  },
  {
   "cell_type": "code",
   "execution_count": 3,
   "id": "ab471fa1-ccda-4422-b5b0-22110ee364cd",
   "metadata": {},
   "outputs": [
    {
     "data": {
      "text/html": [
       "<span style=\"None\">Connecting to &#x27;sqlite:///airline_industry.db&#x27;</span>"
      ],
      "text/plain": [
       "Connecting to 'sqlite:///airline_industry.db'"
      ]
     },
     "metadata": {},
     "output_type": "display_data"
    }
   ],
   "source": [
    "# Connect to airline_industry.db\n",
    "%sql sqlite:///airline_industry.db"
   ]
  },
  {
   "cell_type": "code",
   "execution_count": 4,
   "id": "3a286081-0d58-4428-b964-1b04c958a47d",
   "metadata": {},
   "outputs": [
    {
     "data": {
      "text/html": [
       "<span style=\"None\">displaylimit: Value None will be treated as 0 (no limit)</span>"
      ],
      "text/plain": [
       "displaylimit: Value None will be treated as 0 (no limit)"
      ]
     },
     "metadata": {},
     "output_type": "display_data"
    }
   ],
   "source": [
    "%config SqlMagic.displaylimit = None"
   ]
  },
  {
   "cell_type": "markdown",
   "id": "2b7bb2da-9658-46b8-bac0-62356d8c4300",
   "metadata": {},
   "source": [
    "#### 1. How many records are in each table in the database?"
   ]
  },
  {
   "cell_type": "code",
   "execution_count": 5,
   "id": "00afcdf6-52ad-4318-91b8-e1b55e4662a9",
   "metadata": {},
   "outputs": [
    {
     "data": {
      "text/html": [
       "<span style=\"None\">Running query in &#x27;sqlite:///airline_industry.db&#x27;</span>"
      ],
      "text/plain": [
       "Running query in 'sqlite:///airline_industry.db'"
      ]
     },
     "metadata": {},
     "output_type": "display_data"
    },
    {
     "data": {
      "text/html": [
       "<table>\n",
       "    <thead>\n",
       "        <tr>\n",
       "            <th>airlines_cnt</th>\n",
       "        </tr>\n",
       "    </thead>\n",
       "    <tbody>\n",
       "        <tr>\n",
       "            <td>16</td>\n",
       "        </tr>\n",
       "    </tbody>\n",
       "</table>"
      ],
      "text/plain": [
       "+--------------+\n",
       "| airlines_cnt |\n",
       "+--------------+\n",
       "|      16      |\n",
       "+--------------+"
      ]
     },
     "execution_count": 5,
     "metadata": {},
     "output_type": "execute_result"
    }
   ],
   "source": [
    "%%sql\n",
    "\n",
    "SELECT \n",
    "    COUNT(*) AS 'airlines_cnt'\n",
    "FROM airlines;"
   ]
  },
  {
   "cell_type": "code",
   "execution_count": 6,
   "id": "f3763722-8e61-47ae-9541-d679d61a89eb",
   "metadata": {},
   "outputs": [
    {
     "data": {
      "text/html": [
       "<span style=\"None\">Running query in &#x27;sqlite:///airline_industry.db&#x27;</span>"
      ],
      "text/plain": [
       "Running query in 'sqlite:///airline_industry.db'"
      ]
     },
     "metadata": {},
     "output_type": "display_data"
    },
    {
     "data": {
      "text/html": [
       "<table>\n",
       "    <thead>\n",
       "        <tr>\n",
       "            <th>airports_cnt</th>\n",
       "        </tr>\n",
       "    </thead>\n",
       "    <tbody>\n",
       "        <tr>\n",
       "            <td>1458</td>\n",
       "        </tr>\n",
       "    </tbody>\n",
       "</table>"
      ],
      "text/plain": [
       "+--------------+\n",
       "| airports_cnt |\n",
       "+--------------+\n",
       "|     1458     |\n",
       "+--------------+"
      ]
     },
     "execution_count": 6,
     "metadata": {},
     "output_type": "execute_result"
    }
   ],
   "source": [
    "%%sql\n",
    "\n",
    "SELECT \n",
    "    COUNT(*) AS 'airports_cnt'\n",
    "FROM airports;"
   ]
  },
  {
   "cell_type": "code",
   "execution_count": 7,
   "id": "b8d74886-7334-4632-b405-5cde2393768d",
   "metadata": {},
   "outputs": [
    {
     "data": {
      "text/html": [
       "<span style=\"None\">Running query in &#x27;sqlite:///airline_industry.db&#x27;</span>"
      ],
      "text/plain": [
       "Running query in 'sqlite:///airline_industry.db'"
      ]
     },
     "metadata": {},
     "output_type": "display_data"
    },
    {
     "data": {
      "text/html": [
       "<table>\n",
       "    <thead>\n",
       "        <tr>\n",
       "            <th>flights_cnt</th>\n",
       "        </tr>\n",
       "    </thead>\n",
       "    <tbody>\n",
       "        <tr>\n",
       "            <td>336776</td>\n",
       "        </tr>\n",
       "    </tbody>\n",
       "</table>"
      ],
      "text/plain": [
       "+-------------+\n",
       "| flights_cnt |\n",
       "+-------------+\n",
       "|    336776   |\n",
       "+-------------+"
      ]
     },
     "execution_count": 7,
     "metadata": {},
     "output_type": "execute_result"
    }
   ],
   "source": [
    "%%sql\n",
    "\n",
    "SELECT \n",
    "    COUNT(*) AS 'flights_cnt'\n",
    "FROM flights;"
   ]
  },
  {
   "cell_type": "code",
   "execution_count": 8,
   "id": "d73e1ea1-33b9-4b00-8999-01f742e71eea",
   "metadata": {},
   "outputs": [
    {
     "data": {
      "text/html": [
       "<span style=\"None\">Running query in &#x27;sqlite:///airline_industry.db&#x27;</span>"
      ],
      "text/plain": [
       "Running query in 'sqlite:///airline_industry.db'"
      ]
     },
     "metadata": {},
     "output_type": "display_data"
    },
    {
     "data": {
      "text/html": [
       "<table>\n",
       "    <thead>\n",
       "        <tr>\n",
       "            <th>planes_cnt</th>\n",
       "        </tr>\n",
       "    </thead>\n",
       "    <tbody>\n",
       "        <tr>\n",
       "            <td>3322</td>\n",
       "        </tr>\n",
       "    </tbody>\n",
       "</table>"
      ],
      "text/plain": [
       "+------------+\n",
       "| planes_cnt |\n",
       "+------------+\n",
       "|    3322    |\n",
       "+------------+"
      ]
     },
     "execution_count": 8,
     "metadata": {},
     "output_type": "execute_result"
    }
   ],
   "source": [
    "%%sql\n",
    "\n",
    "SELECT \n",
    "    COUNT(*) AS 'planes_cnt'\n",
    "FROM planes;"
   ]
  },
  {
   "cell_type": "code",
   "execution_count": 9,
   "id": "da2b289a-2c38-4c6d-8363-961f74e0e4ef",
   "metadata": {},
   "outputs": [
    {
     "data": {
      "text/html": [
       "<span style=\"None\">Running query in &#x27;sqlite:///airline_industry.db&#x27;</span>"
      ],
      "text/plain": [
       "Running query in 'sqlite:///airline_industry.db'"
      ]
     },
     "metadata": {},
     "output_type": "display_data"
    },
    {
     "data": {
      "text/html": [
       "<table>\n",
       "    <thead>\n",
       "        <tr>\n",
       "            <th>weather_cnt</th>\n",
       "        </tr>\n",
       "    </thead>\n",
       "    <tbody>\n",
       "        <tr>\n",
       "            <td>26115</td>\n",
       "        </tr>\n",
       "    </tbody>\n",
       "</table>"
      ],
      "text/plain": [
       "+-------------+\n",
       "| weather_cnt |\n",
       "+-------------+\n",
       "|    26115    |\n",
       "+-------------+"
      ]
     },
     "execution_count": 9,
     "metadata": {},
     "output_type": "execute_result"
    }
   ],
   "source": [
    "%%sql\n",
    "\n",
    "SELECT \n",
    "    COUNT(*) AS 'weather_cnt'\n",
    "FROM weather;"
   ]
  },
  {
   "cell_type": "markdown",
   "id": "15d3b4c3-50e0-4772-8455-a6cdc6a60a26",
   "metadata": {},
   "source": [
    "****"
   ]
  },
  {
   "cell_type": "markdown",
   "id": "88dc17c8-c322-4cc8-bb32-118c68b259a6",
   "metadata": {},
   "source": [
    "#### 2. Did any flights depart and arrive exactly on time?"
   ]
  },
  {
   "cell_type": "code",
   "execution_count": 10,
   "id": "b7981508-d79e-40f8-9383-bfedccc2f40b",
   "metadata": {},
   "outputs": [
    {
     "data": {
      "text/html": [
       "<span style=\"None\">Running query in &#x27;sqlite:///airline_industry.db&#x27;</span>"
      ],
      "text/plain": [
       "Running query in 'sqlite:///airline_industry.db'"
      ]
     },
     "metadata": {},
     "output_type": "display_data"
    },
    {
     "data": {
      "text/html": [
       "<table>\n",
       "    <thead>\n",
       "        <tr>\n",
       "            <th>on_time_cnt</th>\n",
       "        </tr>\n",
       "    </thead>\n",
       "    <tbody>\n",
       "        <tr>\n",
       "            <td>347</td>\n",
       "        </tr>\n",
       "    </tbody>\n",
       "</table>"
      ],
      "text/plain": [
       "+-------------+\n",
       "| on_time_cnt |\n",
       "+-------------+\n",
       "|     347     |\n",
       "+-------------+"
      ]
     },
     "execution_count": 10,
     "metadata": {},
     "output_type": "execute_result"
    }
   ],
   "source": [
    "%%sql\n",
    "\n",
    "SELECT\n",
    "    COUNT(*) AS 'on_time_cnt'\n",
    "FROM flights\n",
    "WHERE \n",
    "    dep_delay = 0\n",
    "    AND arr_delay = 0;"
   ]
  },
  {
   "cell_type": "markdown",
   "id": "e6cb7711-3c3d-4fda-b1c6-0b3081cd6809",
   "metadata": {},
   "source": [
    "Yes, 347 flights departed and arrived on time."
   ]
  },
  {
   "cell_type": "markdown",
   "id": "ca97b5ec-550f-4728-baef-2881f42ea2c0",
   "metadata": {},
   "source": [
    "****\n"
   ]
  },
  {
   "cell_type": "markdown",
   "id": "da488a67-dce8-40ab-b9ea-2370a5072b83",
   "metadata": {},
   "source": [
    "#### 3. What is the mean arrival delay among flights?"
   ]
  },
  {
   "cell_type": "code",
   "execution_count": 11,
   "id": "502a7a5e-90a9-4bc2-96ee-ba094ca631d5",
   "metadata": {},
   "outputs": [
    {
     "data": {
      "text/html": [
       "<span style=\"None\">Running query in &#x27;sqlite:///airline_industry.db&#x27;</span>"
      ],
      "text/plain": [
       "Running query in 'sqlite:///airline_industry.db'"
      ]
     },
     "metadata": {},
     "output_type": "display_data"
    },
    {
     "data": {
      "text/html": [
       "<table>\n",
       "    <thead>\n",
       "        <tr>\n",
       "            <th>mean_arr_delay</th>\n",
       "        </tr>\n",
       "    </thead>\n",
       "    <tbody>\n",
       "        <tr>\n",
       "            <td>6.702300639000404</td>\n",
       "        </tr>\n",
       "    </tbody>\n",
       "</table>"
      ],
      "text/plain": [
       "+-------------------+\n",
       "|   mean_arr_delay  |\n",
       "+-------------------+\n",
       "| 6.702300639000404 |\n",
       "+-------------------+"
      ]
     },
     "execution_count": 11,
     "metadata": {},
     "output_type": "execute_result"
    }
   ],
   "source": [
    "%%sql\n",
    "\n",
    "SELECT\n",
    "    AVG(arr_delay) AS 'mean_arr_delay'\n",
    "FROM flights;"
   ]
  },
  {
   "cell_type": "markdown",
   "id": "57084579-cf88-4735-b390-f138ef65de31",
   "metadata": {},
   "source": [
    "****"
   ]
  },
  {
   "cell_type": "markdown",
   "id": "f43f3a33-99d5-4590-8d78-eaae135503ab",
   "metadata": {},
   "source": [
    "#### 4. How many flights had above average arrival delays?"
   ]
  },
  {
   "cell_type": "code",
   "execution_count": 12,
   "id": "35e29105-21f2-4d9c-b77e-328ec2690266",
   "metadata": {},
   "outputs": [
    {
     "data": {
      "text/html": [
       "<span style=\"None\">Running query in &#x27;sqlite:///airline_industry.db&#x27;</span>"
      ],
      "text/plain": [
       "Running query in 'sqlite:///airline_industry.db'"
      ]
     },
     "metadata": {},
     "output_type": "display_data"
    },
    {
     "data": {
      "text/html": [
       "<table>\n",
       "    <thead>\n",
       "        <tr>\n",
       "            <th>above_avg_delays</th>\n",
       "        </tr>\n",
       "    </thead>\n",
       "    <tbody>\n",
       "        <tr>\n",
       "            <td>115257</td>\n",
       "        </tr>\n",
       "    </tbody>\n",
       "</table>"
      ],
      "text/plain": [
       "+------------------+\n",
       "| above_avg_delays |\n",
       "+------------------+\n",
       "|      115257      |\n",
       "+------------------+"
      ]
     },
     "execution_count": 12,
     "metadata": {},
     "output_type": "execute_result"
    }
   ],
   "source": [
    "%%sql\n",
    "\n",
    "SELECT\n",
    "    COUNT(*) AS 'above_avg_delays'\n",
    "FROM flights\n",
    "WHERE arr_delay > (SELECT AVG(arr_delay) AS 'mean_arr_delay'\n",
    "    FROM flights); "
   ]
  },
  {
   "cell_type": "markdown",
   "id": "c4d5d695-a776-425a-bef9-d16321bec005",
   "metadata": {},
   "source": [
    "****"
   ]
  },
  {
   "cell_type": "markdown",
   "id": "d69cfca6-33aa-4e88-a3f2-de159bdaca15",
   "metadata": {},
   "source": [
    "#### 5. What is the relationship between temperature and wind speed? Do changes in the mean temperature throughout the year (by month) move reflect changes in mean wind speed?"
   ]
  },
  {
   "cell_type": "code",
   "execution_count": 13,
   "id": "560ef2cd-d079-409f-aedf-ce981d5afef8",
   "metadata": {},
   "outputs": [
    {
     "data": {
      "text/html": [
       "<span style=\"None\">Running query in &#x27;sqlite:///airline_industry.db&#x27;</span>"
      ],
      "text/plain": [
       "Running query in 'sqlite:///airline_industry.db'"
      ]
     },
     "metadata": {},
     "output_type": "display_data"
    }
   ],
   "source": [
    "%%sql q5_result <<\n",
    "\n",
    "SELECT\n",
    "    month,\n",
    "    AVG(temp) AS 'mean_temp',\n",
    "    AVG(wind_speed) AS 'mean_wind_speed'\n",
    "FROM weather\n",
    "GROUP BY month\n",
    "ORDER BY month;"
   ]
  },
  {
   "cell_type": "code",
   "execution_count": 14,
   "id": "4ab98410-7130-4ff4-9a6c-e9d43a56db49",
   "metadata": {},
   "outputs": [
    {
     "data": {
      "text/html": [
       "<div>\n",
       "<style scoped>\n",
       "    .dataframe tbody tr th:only-of-type {\n",
       "        vertical-align: middle;\n",
       "    }\n",
       "\n",
       "    .dataframe tbody tr th {\n",
       "        vertical-align: top;\n",
       "    }\n",
       "\n",
       "    .dataframe thead th {\n",
       "        text-align: right;\n",
       "    }\n",
       "</style>\n",
       "<table border=\"1\" class=\"dataframe\">\n",
       "  <thead>\n",
       "    <tr style=\"text-align: right;\">\n",
       "      <th></th>\n",
       "      <th>month</th>\n",
       "      <th>mean_temp</th>\n",
       "      <th>mean_wind_speed</th>\n",
       "    </tr>\n",
       "  </thead>\n",
       "  <tbody>\n",
       "    <tr>\n",
       "      <th>0</th>\n",
       "      <td>1</td>\n",
       "      <td>35.635660</td>\n",
       "      <td>11.183658</td>\n",
       "    </tr>\n",
       "    <tr>\n",
       "      <th>1</th>\n",
       "      <td>2</td>\n",
       "      <td>34.270597</td>\n",
       "      <td>12.674038</td>\n",
       "    </tr>\n",
       "    <tr>\n",
       "      <th>2</th>\n",
       "      <td>3</td>\n",
       "      <td>39.880072</td>\n",
       "      <td>12.923151</td>\n",
       "    </tr>\n",
       "    <tr>\n",
       "      <th>3</th>\n",
       "      <td>4</td>\n",
       "      <td>51.745642</td>\n",
       "      <td>11.098444</td>\n",
       "    </tr>\n",
       "    <tr>\n",
       "      <th>4</th>\n",
       "      <td>5</td>\n",
       "      <td>61.795000</td>\n",
       "      <td>9.516621</td>\n",
       "    </tr>\n",
       "    <tr>\n",
       "      <th>5</th>\n",
       "      <td>6</td>\n",
       "      <td>72.184000</td>\n",
       "      <td>10.263253</td>\n",
       "    </tr>\n",
       "    <tr>\n",
       "      <th>6</th>\n",
       "      <td>7</td>\n",
       "      <td>80.066221</td>\n",
       "      <td>9.573477</td>\n",
       "    </tr>\n",
       "    <tr>\n",
       "      <th>7</th>\n",
       "      <td>8</td>\n",
       "      <td>74.434876</td>\n",
       "      <td>8.611904</td>\n",
       "    </tr>\n",
       "    <tr>\n",
       "      <th>8</th>\n",
       "      <td>9</td>\n",
       "      <td>67.371292</td>\n",
       "      <td>8.906685</td>\n",
       "    </tr>\n",
       "    <tr>\n",
       "      <th>9</th>\n",
       "      <td>10</td>\n",
       "      <td>60.071130</td>\n",
       "      <td>9.702033</td>\n",
       "    </tr>\n",
       "    <tr>\n",
       "      <th>10</th>\n",
       "      <td>11</td>\n",
       "      <td>44.990434</td>\n",
       "      <td>11.801811</td>\n",
       "    </tr>\n",
       "    <tr>\n",
       "      <th>11</th>\n",
       "      <td>12</td>\n",
       "      <td>38.441800</td>\n",
       "      <td>10.131051</td>\n",
       "    </tr>\n",
       "  </tbody>\n",
       "</table>\n",
       "</div>"
      ],
      "text/plain": [
       "    month  mean_temp  mean_wind_speed\n",
       "0       1  35.635660        11.183658\n",
       "1       2  34.270597        12.674038\n",
       "2       3  39.880072        12.923151\n",
       "3       4  51.745642        11.098444\n",
       "4       5  61.795000         9.516621\n",
       "5       6  72.184000        10.263253\n",
       "6       7  80.066221         9.573477\n",
       "7       8  74.434876         8.611904\n",
       "8       9  67.371292         8.906685\n",
       "9      10  60.071130         9.702033\n",
       "10     11  44.990434        11.801811\n",
       "11     12  38.441800        10.131051"
      ]
     },
     "execution_count": 14,
     "metadata": {},
     "output_type": "execute_result"
    }
   ],
   "source": [
    "# Load results into a dataframe.\n",
    "q5_df = q5_result.DataFrame()\n",
    "q5_df"
   ]
  },
  {
   "cell_type": "code",
   "execution_count": null,
   "id": "8d6c2977-6367-4367-99e1-64a159f061e4",
   "metadata": {},
   "outputs": [],
   "source": [
    "# Visualize results\n",
    "q5_plot = (\n",
    "    ggplot(q5_df, aes(x = 'mean_temp', y = 'mean_wind_speed')) +\n",
    "    geom_point(color = 'blue') +\n",
    "    geom_smooth(method = 'lm', color = 'red', se = False) +\n",
    "    labs(title = 'Avg Temp vs Avg Windspeed',\n",
    "         x = 'Avg Temp',\n",
    "         y = 'Avg Wind Speed') +\n",
    "    theme_minimal()\n",
    ")\n",
    "\n",
    "q5_plot"
   ]
  },
  {
   "cell_type": "markdown",
   "id": "57ae7273-199c-479b-b7e5-09f8e82ad971",
   "metadata": {},
   "source": [
    "Yes, as average temperature increases, average windspeed decreases."
   ]
  },
  {
   "cell_type": "markdown",
   "id": "8734ed9f-0259-4edf-bcb1-7182bed30f94",
   "metadata": {},
   "source": [
    "****"
   ]
  },
  {
   "cell_type": "markdown",
   "id": "f0ca6259-037d-461e-ac4d-d8558f0bec8e",
   "metadata": {},
   "source": [
    "#### 6. Print the first 5 rows of flights and airlines. Does the flights table contain the full name of the airline? If so, print them. If not, write a query to return the first 10 records in the flights data with the following columns: the origin, destination, carrier, flight number, and full name of the airline for each flight in a single table."
   ]
  },
  {
   "cell_type": "code",
   "execution_count": null,
   "id": "07d8eae5-cfe4-474d-bdb0-c4bb6bca2a43",
   "metadata": {},
   "outputs": [],
   "source": [
    "%%sql\n",
    "\n",
    "SELECT *\n",
    "FROM flights\n",
    "LIMIT 5;"
   ]
  },
  {
   "cell_type": "code",
   "execution_count": null,
   "id": "fa229dee-c639-433a-b645-7d1b54dc2f93",
   "metadata": {},
   "outputs": [],
   "source": [
    "%%sql\n",
    "\n",
    "SELECT *\n",
    "FROM airlines\n",
    "LIMIT 5;"
   ]
  },
  {
   "cell_type": "code",
   "execution_count": null,
   "id": "78dea9c6-049e-4767-bd8c-71ece1d89400",
   "metadata": {},
   "outputs": [],
   "source": [
    "%%sql\n",
    "\n",
    "SELECT\n",
    "    f.origin,\n",
    "    f.dest as 'destination',\n",
    "    f.carrier,\n",
    "    f.flight,\n",
    "    a.name\n",
    "FROM flights as f\n",
    "LEFT JOIN airlines as a\n",
    "ON f.carrier = a.carrier\n",
    "LIMIT 10;\n"
   ]
  },
  {
   "cell_type": "markdown",
   "id": "d4b7e366-a2d4-477e-9f3c-d17df5341499",
   "metadata": {},
   "source": [
    "****"
   ]
  },
  {
   "cell_type": "markdown",
   "id": "88922de9-b9c9-4dc6-93c3-5f92a8a39b3d",
   "metadata": {},
   "source": [
    "#### 7. Your supervisor is interested in the airlines that offer the most flights in peak periods. Write a query that returns the number of flights each airline operates in December. The results should be a single table that contains five columns: carrier, month, name, and num_flights. The results should be limited to 10 and shown in descending order by number of flights."
   ]
  },
  {
   "cell_type": "code",
   "execution_count": null,
   "id": "1463f90d-58ed-41d5-9cf4-ca380468c890",
   "metadata": {},
   "outputs": [],
   "source": [
    "%%sql\n",
    "\n",
    "SELECT\n",
    "    f.carrier,\n",
    "    f.month,\n",
    "    a.name,\n",
    "    COUNT(*) AS num_flights\n",
    "FROM flights as f\n",
    "LEFT JOIN airlines as a\n",
    "ON f.carrier = a.carrier\n",
    "WHERE month = 12\n",
    "GROUP BY \n",
    "    f.carrier,\n",
    "    a.name\n",
    "ORDER BY num_flights DESC\n",
    "LIMIT 10;"
   ]
  },
  {
   "cell_type": "markdown",
   "id": "d9f8717d-01a4-4700-8dc8-39b2aea086a0",
   "metadata": {},
   "source": [
    "****"
   ]
  },
  {
   "cell_type": "markdown",
   "id": "8335e8c9-bd55-4015-9f5b-da472b05b0b4",
   "metadata": {},
   "source": [
    "#### 8. Use pandas to connect to the database. Define a function that takes one argument--month_num--called num_flights_fun that uses pandas' `.read_sql_query()` and runs a query that returns the number of flights each airline operates in whatever month is specified in the function call. The result should be returned as a pandas dataframe that contains five columns: carrier, month, name, and num_flights."
   ]
  },
  {
   "cell_type": "code",
   "execution_count": null,
   "id": "bc111db7-c3e1-4ded-a065-d989dd9797c9",
   "metadata": {},
   "outputs": [],
   "source": [
    "# Define function that takes the month_num and returns the number of flights each airline operates in that month.\n",
    "def num_flights_fun(month_num):\n",
    "    # Connection to database\n",
    "    conn = sqlite3.connect('airline_industry.db')\n",
    "\n",
    "    # SQL query to get the number of flights each airline operates in the specified month\n",
    "    query = f\"\"\"\n",
    "    SELECT\n",
    "        f.carrier,\n",
    "        f.month,\n",
    "        a.name,\n",
    "        COUNT(*) AS num_flights\n",
    "    FROM flights as f\n",
    "    LEFT JOIN airlines as a\n",
    "    ON f.carrier = a.carrier\n",
    "    WHERE f.month = '{month_num}'\n",
    "    GROUP BY \n",
    "        f.carrier, \n",
    "        a.name\n",
    "    ORDER BY num_flights DESC;\n",
    "    \"\"\"\n",
    "\n",
    "    # Store the result in a dataframe\n",
    "    result_df = pd.read_sql_query(query, conn)\n",
    "\n",
    "    # Close db connection\n",
    "    conn.close()\n",
    "\n",
    "    # Return the dataframe\n",
    "    return result_df"
   ]
  },
  {
   "cell_type": "code",
   "execution_count": null,
   "id": "c810292a-b06e-412f-a89e-1d18abea9098",
   "metadata": {},
   "outputs": [],
   "source": [
    "num_flights_fun(11)"
   ]
  }
 ],
 "metadata": {
  "kernelspec": {
   "display_name": "Python 3 (ipykernel)",
   "language": "python",
   "name": "python3"
  },
  "language_info": {
   "codemirror_mode": {
    "name": "ipython",
    "version": 3
   },
   "file_extension": ".py",
   "mimetype": "text/x-python",
   "name": "python",
   "nbconvert_exporter": "python",
   "pygments_lexer": "ipython3",
   "version": "3.12.7"
  }
 },
 "nbformat": 4,
 "nbformat_minor": 5
}
